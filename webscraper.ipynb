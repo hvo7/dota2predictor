{
 "cells": [
  {
   "cell_type": "code",
   "execution_count": 17,
   "metadata": {},
   "outputs": [],
   "source": [
    "from selenium import webdriver\n",
    "from selenium.webdriver.common.by import By\n",
    "from selenium.webdriver.chrome.service import Service\n",
    "from selenium.webdriver.chrome.options import Options\n",
    "from selenium.webdriver.support.ui import WebDriverWait\n",
    "from webdriver_manager.chrome import ChromeDriverManager\n",
    "from selenium.webdriver.support import expected_conditions as EC\n",
    "from selenium.webdriver.common.action_chains import ActionChains\n"
   ]
  },
  {
   "cell_type": "code",
   "execution_count": 18,
   "metadata": {},
   "outputs": [],
   "source": [
    "import time\n",
    "import re\n",
    "import pandas as pd\n",
    "import numpy as np"
   ]
  },
  {
   "cell_type": "code",
   "execution_count": 19,
   "metadata": {},
   "outputs": [],
   "source": [
    "from bs4 import BeautifulSoup\n",
    "\n",
    "file_path = r\"C:\\Users\\henry\\Downloads\\dota2_stratz_home.txt\"\n",
    "\n",
    "with open (file_path, 'r', encoding = 'utf-8') as file:\n",
    "    file_content = file.read()\n",
    "\n",
    "soup = BeautifulSoup(file_content, 'html.parser')\n"
   ]
  },
  {
   "cell_type": "code",
   "execution_count": 20,
   "metadata": {},
   "outputs": [],
   "source": [
    "html_txt_file = r\"C:\\Users\\henry\\Downloads\\dota2match.txt\"\n",
    "execute_path = r\"C:\\Users\\henry\\OneDrive - Louisiana State University\\Desktop\\Dota2Predictor\\dota2_individual_match.ipynb\""
   ]
  },
  {
   "cell_type": "code",
   "execution_count": 21,
   "metadata": {},
   "outputs": [],
   "source": [
    "df = pd.read_csv(r\"C:\\Users\\henry\\OneDrive - Louisiana State University\\Desktop\\Dota2Predictor\\dota.csv\")"
   ]
  },
  {
   "cell_type": "code",
   "execution_count": 22,
   "metadata": {},
   "outputs": [
    {
     "name": "stdout",
     "output_type": "stream",
     "text": [
      "                 0                Hero      Result     MatchID       Date  \\\n",
      "0             Date              Oracle   Won Match  7298711135  8/23/2023   \n",
      "1        Enemy_po5        Witch Doctor   Won Match  7280229073  8/11/2023   \n",
      "2         Networth                Lion   Won Match  7268965457   8/3/2023   \n",
      "3          MatchID              Rubick  Lost Match  7266856262   8/2/2023   \n",
      "4            Kills              Rubick   Won Match  7255758726  7/25/2023   \n",
      "5             Hero       Winter Wyvern  Lost Match  7255725098  7/24/2023   \n",
      "6           Deaths          Venomancer   Won Match  7255673780  7/24/2023   \n",
      "7          Assists              Rubick   Won Match  7250070281  7/20/2023   \n",
      "8           Result             Undying   Won Match  7247689570  7/19/2023   \n",
      "9   Match Duration          Venomancer   Won Match  7247671586  7/19/2023   \n",
      "10      Enemy_pos3              Rubick  Lost Match  7247452281  7/18/2023   \n",
      "11      Enemy_pos1             Undying  Lost Match  7246372234  7/18/2023   \n",
      "12      Enemy_pos2             Undying  Lost Match  7239135242  7/12/2023   \n",
      "13      Enemy_pos4             Undying   Won Match  7239056825  7/12/2023   \n",
      "14             NaN              Rubick  Lost Match  7238973938  7/12/2023   \n",
      "15             NaN              Jakiro  Lost Match  7238908864  7/12/2023   \n",
      "16             NaN             Undying   Won Match  7238202411  7/12/2023   \n",
      "17             NaN              Jakiro   Won Match  7238171114  7/12/2023   \n",
      "18             NaN          Venomancer   Won Match  7238145508  7/12/2023   \n",
      "19             NaN             Techies   Won Match  7238118885  7/12/2023   \n",
      "20             NaN          Venomancer   Won Match  7238092792  7/12/2023   \n",
      "21             NaN          Venomancer  Lost Match  7237960065  7/11/2023   \n",
      "22             NaN              Rubick  Lost Match  7237895477  7/11/2023   \n",
      "23             NaN  Ancient Apparition   Won Match  7232610806   7/8/2023   \n",
      "24             NaN          Venomancer  Lost Match  7231024516   7/6/2023   \n",
      "25             NaN          Venomancer  Lost Match  7228543993   7/5/2023   \n",
      "26             NaN          Venomancer   Won Match  7227384223   7/4/2023   \n",
      "27             NaN          Venomancer   Won Match  7227325085   7/4/2023   \n",
      "28             NaN          Venomancer   Won Match  7227303780   7/4/2023   \n",
      "29             NaN              Rubick  Lost Match  7227251683   7/4/2023   \n",
      "30             NaN          Venomancer   Won Match  7227218819   7/4/2023   \n",
      "31             NaN              Oracle  Lost Match  7227194113   7/3/2023   \n",
      "32             NaN           Disruptor   Won Match  7227166001   7/3/2023   \n",
      "33             NaN              Oracle   Won Match  7227128373   7/3/2023   \n",
      "34             NaN          Venomancer   Won Match  7227088056   7/3/2023   \n",
      "35             NaN             Undying   Won Match  7227044961   7/3/2023   \n",
      "36             NaN              Oracle   Won Match  7227003847   7/3/2023   \n",
      "37             NaN      Crystal Maiden   Won Match  7226078987   7/3/2023   \n",
      "38             NaN          Venomancer   Won Match  7226052094   7/3/2023   \n",
      "39             NaN          Venomancer  Lost Match  7226010839   7/3/2023   \n",
      "40             NaN              Jakiro   Won Match  7225983519   7/3/2023   \n",
      "41             NaN              Rubick  Lost Match  7221245229  6/29/2023   \n",
      "42             NaN             Undying   Won Match  7218834860  6/27/2023   \n",
      "43             NaN             Undying  Lost Match  7217551342  6/27/2023   \n",
      "44             NaN          Venomancer  Lost Match  7216278139  6/26/2023   \n",
      "45             NaN          Venomancer   Won Match  7216256731  6/26/2023   \n",
      "46             NaN             Techies  Lost Match  7216236208  6/26/2023   \n",
      "47             NaN             Techies  Lost Match  7216180843  6/26/2023   \n",
      "48             NaN                Lich  Lost Match  7216105413  6/25/2023   \n",
      "49             NaN             Techies   Won Match  7216075145  6/25/2023   \n",
      "\n",
      "    Duration  Kills  Deaths  Assists  Enemy_pos1 Enemy_pos2    Enemy_pos3  \\\n",
      "0   50:02:00     10      10       20  gyrocopter  nevermore  chaos_knight   \n",
      "1   42:53:00     11      10       16         NaN        NaN           NaN   \n",
      "2   37:55:00      5       6       31         NaN        NaN           NaN   \n",
      "3   47:16:00      8      10       25         NaN        NaN           NaN   \n",
      "4   25:18:00      3       1       14         NaN        NaN           NaN   \n",
      "5   42:54:00      3       8       17         NaN        NaN           NaN   \n",
      "6   52:50:00      7       9       22         NaN        NaN           NaN   \n",
      "7   38:43:00      3       6       25         NaN        NaN           NaN   \n",
      "8   27:00:00      5       3       11         NaN        NaN           NaN   \n",
      "9   28:15:00      6       4       29         NaN        NaN           NaN   \n",
      "10  44:21:00      6       6       22         NaN        NaN           NaN   \n",
      "11   1:04:49      6       6       24         NaN        NaN           NaN   \n",
      "12  33:24:00      3       9        8         NaN        NaN           NaN   \n",
      "13  35:35:00     15       4       26         NaN        NaN           NaN   \n",
      "14  33:44:00      7       9        8         NaN        NaN           NaN   \n",
      "15  33:21:00      1      11        8         NaN        NaN           NaN   \n",
      "16  44:44:00      8       9       32         NaN        NaN           NaN   \n",
      "17  46:59:00     12       6       12         NaN        NaN           NaN   \n",
      "18  41:47:00      5       5       23         NaN        NaN           NaN   \n",
      "19  47:24:00      6       3       21         NaN        NaN           NaN   \n",
      "20  45:24:00      2       8       31         NaN        NaN           NaN   \n",
      "21  54:52:00      5      14       39         NaN        NaN           NaN   \n",
      "22  44:25:00      3      13       11         NaN        NaN           NaN   \n",
      "23  43:30:00      6       6       31         NaN        NaN           NaN   \n",
      "24  39:21:00      4       9       18         NaN        NaN           NaN   \n",
      "25  55:05:00      1      13       23         NaN        NaN           NaN   \n",
      "26  46:25:00      6      10       44         NaN        NaN           NaN   \n",
      "27  31:31:00      9       4       27         NaN        NaN           NaN   \n",
      "28  32:28:00      5       7       25         NaN        NaN           NaN   \n",
      "29  45:23:00      1      10       12         NaN        NaN           NaN   \n",
      "30  28:39:00      6       2       21         NaN        NaN           NaN   \n",
      "31  37:26:00      3      10       12         NaN        NaN           NaN   \n",
      "32  33:27:00      1       2       27         NaN        NaN           NaN   \n",
      "33  36:05:00     12       4       22         NaN        NaN           NaN   \n",
      "34  39:56:00      7       5       26         NaN        NaN           NaN   \n",
      "35  35:26:00      7       4       24         NaN        NaN           NaN   \n",
      "36  29:20:00     14       0       16         NaN        NaN           NaN   \n",
      "37  32:50:00      3       5       28         NaN        NaN           NaN   \n",
      "38  31:56:00      8       5       34         NaN        NaN           NaN   \n",
      "39   1:09:07      6      14       40         NaN        NaN           NaN   \n",
      "40  42:21:00      9       8       25         NaN        NaN           NaN   \n",
      "41  43:38:00      0       9       14         NaN        NaN           NaN   \n",
      "42  25:55:00      6       1       18         NaN        NaN           NaN   \n",
      "43  44:11:00      7      10       28         NaN        NaN           NaN   \n",
      "44  48:43:00     13       6       20         NaN        NaN           NaN   \n",
      "45  30:23:00      4       2       24         NaN        NaN           NaN   \n",
      "46  30:10:00      2       8        6         NaN        NaN           NaN   \n",
      "47  36:38:00      3       7        7         NaN        NaN           NaN   \n",
      "48  49:52:00      5      11       15         NaN        NaN           NaN   \n",
      "49  41:38:00      4       8       23         NaN        NaN           NaN   \n",
      "\n",
      "    Enemy_pos4 Enemy_pos5 Networth  \n",
      "0   venomancer    phoenix   17,576  \n",
      "1          NaN        NaN      NaN  \n",
      "2          NaN        NaN      NaN  \n",
      "3          NaN        NaN      NaN  \n",
      "4          NaN        NaN      NaN  \n",
      "5          NaN        NaN      NaN  \n",
      "6          NaN        NaN      NaN  \n",
      "7          NaN        NaN      NaN  \n",
      "8          NaN        NaN      NaN  \n",
      "9          NaN        NaN      NaN  \n",
      "10         NaN        NaN      NaN  \n",
      "11         NaN        NaN      NaN  \n",
      "12         NaN        NaN      NaN  \n",
      "13         NaN        NaN      NaN  \n",
      "14         NaN        NaN      NaN  \n",
      "15         NaN        NaN      NaN  \n",
      "16         NaN        NaN      NaN  \n",
      "17         NaN        NaN      NaN  \n",
      "18         NaN        NaN      NaN  \n",
      "19         NaN        NaN      NaN  \n",
      "20         NaN        NaN      NaN  \n",
      "21         NaN        NaN      NaN  \n",
      "22         NaN        NaN      NaN  \n",
      "23         NaN        NaN      NaN  \n",
      "24         NaN        NaN      NaN  \n",
      "25         NaN        NaN      NaN  \n",
      "26         NaN        NaN      NaN  \n",
      "27         NaN        NaN      NaN  \n",
      "28         NaN        NaN      NaN  \n",
      "29         NaN        NaN      NaN  \n",
      "30         NaN        NaN      NaN  \n",
      "31         NaN        NaN      NaN  \n",
      "32         NaN        NaN      NaN  \n",
      "33         NaN        NaN      NaN  \n",
      "34         NaN        NaN      NaN  \n",
      "35         NaN        NaN      NaN  \n",
      "36         NaN        NaN      NaN  \n",
      "37         NaN        NaN      NaN  \n",
      "38         NaN        NaN      NaN  \n",
      "39         NaN        NaN      NaN  \n",
      "40         NaN        NaN      NaN  \n",
      "41         NaN        NaN      NaN  \n",
      "42         NaN        NaN      NaN  \n",
      "43         NaN        NaN      NaN  \n",
      "44         NaN        NaN      NaN  \n",
      "45         NaN        NaN      NaN  \n",
      "46         NaN        NaN      NaN  \n",
      "47         NaN        NaN      NaN  \n",
      "48         NaN        NaN      NaN  \n",
      "49         NaN        NaN      NaN  \n"
     ]
    }
   ],
   "source": [
    "print(df)"
   ]
  },
  {
   "cell_type": "code",
   "execution_count": 23,
   "metadata": {},
   "outputs": [],
   "source": [
    "options = Options()\n",
    "options.add_experimental_option(\"detach\", True) # Keep the browser open even after script is finished running"
   ]
  },
  {
   "cell_type": "code",
   "execution_count": 27,
   "metadata": {},
   "outputs": [
    {
     "ename": "ConnectionError",
     "evalue": "Could not reach host. Are you offline?",
     "output_type": "error",
     "traceback": [
      "\u001b[1;31m---------------------------------------------------------------------------\u001b[0m",
      "\u001b[1;31mTimeoutError\u001b[0m                              Traceback (most recent call last)",
      "File \u001b[1;32m~\\AppData\\Local\\Packages\\PythonSoftwareFoundation.Python.3.11_qbz5n2kfra8p0\\LocalCache\\local-packages\\Python311\\site-packages\\urllib3\\connection.py:203\u001b[0m, in \u001b[0;36mHTTPConnection._new_conn\u001b[1;34m(self)\u001b[0m\n\u001b[0;32m    202\u001b[0m \u001b[39mtry\u001b[39;00m:\n\u001b[1;32m--> 203\u001b[0m     sock \u001b[39m=\u001b[39m connection\u001b[39m.\u001b[39;49mcreate_connection(\n\u001b[0;32m    204\u001b[0m         (\u001b[39mself\u001b[39;49m\u001b[39m.\u001b[39;49m_dns_host, \u001b[39mself\u001b[39;49m\u001b[39m.\u001b[39;49mport),\n\u001b[0;32m    205\u001b[0m         \u001b[39mself\u001b[39;49m\u001b[39m.\u001b[39;49mtimeout,\n\u001b[0;32m    206\u001b[0m         source_address\u001b[39m=\u001b[39;49m\u001b[39mself\u001b[39;49m\u001b[39m.\u001b[39;49msource_address,\n\u001b[0;32m    207\u001b[0m         socket_options\u001b[39m=\u001b[39;49m\u001b[39mself\u001b[39;49m\u001b[39m.\u001b[39;49msocket_options,\n\u001b[0;32m    208\u001b[0m     )\n\u001b[0;32m    209\u001b[0m \u001b[39mexcept\u001b[39;00m socket\u001b[39m.\u001b[39mgaierror \u001b[39mas\u001b[39;00m e:\n",
      "File \u001b[1;32m~\\AppData\\Local\\Packages\\PythonSoftwareFoundation.Python.3.11_qbz5n2kfra8p0\\LocalCache\\local-packages\\Python311\\site-packages\\urllib3\\util\\connection.py:85\u001b[0m, in \u001b[0;36mcreate_connection\u001b[1;34m(address, timeout, source_address, socket_options)\u001b[0m\n\u001b[0;32m     84\u001b[0m \u001b[39mtry\u001b[39;00m:\n\u001b[1;32m---> 85\u001b[0m     \u001b[39mraise\u001b[39;00m err\n\u001b[0;32m     86\u001b[0m \u001b[39mfinally\u001b[39;00m:\n\u001b[0;32m     87\u001b[0m     \u001b[39m# Break explicitly a reference cycle\u001b[39;00m\n",
      "File \u001b[1;32m~\\AppData\\Local\\Packages\\PythonSoftwareFoundation.Python.3.11_qbz5n2kfra8p0\\LocalCache\\local-packages\\Python311\\site-packages\\urllib3\\util\\connection.py:73\u001b[0m, in \u001b[0;36mcreate_connection\u001b[1;34m(address, timeout, source_address, socket_options)\u001b[0m\n\u001b[0;32m     72\u001b[0m     sock\u001b[39m.\u001b[39mbind(source_address)\n\u001b[1;32m---> 73\u001b[0m sock\u001b[39m.\u001b[39mconnect(sa)\n\u001b[0;32m     74\u001b[0m \u001b[39m# Break explicitly a reference cycle\u001b[39;00m\n",
      "\u001b[1;31mTimeoutError\u001b[0m: [WinError 10060] A connection attempt failed because the connected party did not properly respond after a period of time, or established connection failed because connected host has failed to respond",
      "\nThe above exception was the direct cause of the following exception:\n",
      "\u001b[1;31mConnectTimeoutError\u001b[0m                       Traceback (most recent call last)",
      "File \u001b[1;32m~\\AppData\\Local\\Packages\\PythonSoftwareFoundation.Python.3.11_qbz5n2kfra8p0\\LocalCache\\local-packages\\Python311\\site-packages\\urllib3\\connectionpool.py:790\u001b[0m, in \u001b[0;36mHTTPConnectionPool.urlopen\u001b[1;34m(self, method, url, body, headers, retries, redirect, assert_same_host, timeout, pool_timeout, release_conn, chunked, body_pos, preload_content, decode_content, **response_kw)\u001b[0m\n\u001b[0;32m    789\u001b[0m \u001b[39m# Make the request on the HTTPConnection object\u001b[39;00m\n\u001b[1;32m--> 790\u001b[0m response \u001b[39m=\u001b[39m \u001b[39mself\u001b[39;49m\u001b[39m.\u001b[39;49m_make_request(\n\u001b[0;32m    791\u001b[0m     conn,\n\u001b[0;32m    792\u001b[0m     method,\n\u001b[0;32m    793\u001b[0m     url,\n\u001b[0;32m    794\u001b[0m     timeout\u001b[39m=\u001b[39;49mtimeout_obj,\n\u001b[0;32m    795\u001b[0m     body\u001b[39m=\u001b[39;49mbody,\n\u001b[0;32m    796\u001b[0m     headers\u001b[39m=\u001b[39;49mheaders,\n\u001b[0;32m    797\u001b[0m     chunked\u001b[39m=\u001b[39;49mchunked,\n\u001b[0;32m    798\u001b[0m     retries\u001b[39m=\u001b[39;49mretries,\n\u001b[0;32m    799\u001b[0m     response_conn\u001b[39m=\u001b[39;49mresponse_conn,\n\u001b[0;32m    800\u001b[0m     preload_content\u001b[39m=\u001b[39;49mpreload_content,\n\u001b[0;32m    801\u001b[0m     decode_content\u001b[39m=\u001b[39;49mdecode_content,\n\u001b[0;32m    802\u001b[0m     \u001b[39m*\u001b[39;49m\u001b[39m*\u001b[39;49mresponse_kw,\n\u001b[0;32m    803\u001b[0m )\n\u001b[0;32m    805\u001b[0m \u001b[39m# Everything went great!\u001b[39;00m\n",
      "File \u001b[1;32m~\\AppData\\Local\\Packages\\PythonSoftwareFoundation.Python.3.11_qbz5n2kfra8p0\\LocalCache\\local-packages\\Python311\\site-packages\\urllib3\\connectionpool.py:491\u001b[0m, in \u001b[0;36mHTTPConnectionPool._make_request\u001b[1;34m(self, conn, method, url, body, headers, retries, timeout, chunked, response_conn, preload_content, decode_content, enforce_content_length)\u001b[0m\n\u001b[0;32m    490\u001b[0m         new_e \u001b[39m=\u001b[39m _wrap_proxy_error(new_e, conn\u001b[39m.\u001b[39mproxy\u001b[39m.\u001b[39mscheme)\n\u001b[1;32m--> 491\u001b[0m     \u001b[39mraise\u001b[39;00m new_e\n\u001b[0;32m    493\u001b[0m \u001b[39m# conn.request() calls http.client.*.request, not the method in\u001b[39;00m\n\u001b[0;32m    494\u001b[0m \u001b[39m# urllib3.request. It also calls makefile (recv) on the socket.\u001b[39;00m\n",
      "File \u001b[1;32m~\\AppData\\Local\\Packages\\PythonSoftwareFoundation.Python.3.11_qbz5n2kfra8p0\\LocalCache\\local-packages\\Python311\\site-packages\\urllib3\\connectionpool.py:467\u001b[0m, in \u001b[0;36mHTTPConnectionPool._make_request\u001b[1;34m(self, conn, method, url, body, headers, retries, timeout, chunked, response_conn, preload_content, decode_content, enforce_content_length)\u001b[0m\n\u001b[0;32m    466\u001b[0m \u001b[39mtry\u001b[39;00m:\n\u001b[1;32m--> 467\u001b[0m     \u001b[39mself\u001b[39;49m\u001b[39m.\u001b[39;49m_validate_conn(conn)\n\u001b[0;32m    468\u001b[0m \u001b[39mexcept\u001b[39;00m (SocketTimeout, BaseSSLError) \u001b[39mas\u001b[39;00m e:\n",
      "File \u001b[1;32m~\\AppData\\Local\\Packages\\PythonSoftwareFoundation.Python.3.11_qbz5n2kfra8p0\\LocalCache\\local-packages\\Python311\\site-packages\\urllib3\\connectionpool.py:1092\u001b[0m, in \u001b[0;36mHTTPSConnectionPool._validate_conn\u001b[1;34m(self, conn)\u001b[0m\n\u001b[0;32m   1091\u001b[0m \u001b[39mif\u001b[39;00m conn\u001b[39m.\u001b[39mis_closed:\n\u001b[1;32m-> 1092\u001b[0m     conn\u001b[39m.\u001b[39;49mconnect()\n\u001b[0;32m   1094\u001b[0m \u001b[39mif\u001b[39;00m \u001b[39mnot\u001b[39;00m conn\u001b[39m.\u001b[39mis_verified:\n",
      "File \u001b[1;32m~\\AppData\\Local\\Packages\\PythonSoftwareFoundation.Python.3.11_qbz5n2kfra8p0\\LocalCache\\local-packages\\Python311\\site-packages\\urllib3\\connection.py:611\u001b[0m, in \u001b[0;36mHTTPSConnection.connect\u001b[1;34m(self)\u001b[0m\n\u001b[0;32m    610\u001b[0m sock: socket\u001b[39m.\u001b[39msocket \u001b[39m|\u001b[39m ssl\u001b[39m.\u001b[39mSSLSocket\n\u001b[1;32m--> 611\u001b[0m \u001b[39mself\u001b[39m\u001b[39m.\u001b[39msock \u001b[39m=\u001b[39m sock \u001b[39m=\u001b[39m \u001b[39mself\u001b[39;49m\u001b[39m.\u001b[39;49m_new_conn()\n\u001b[0;32m    612\u001b[0m server_hostname: \u001b[39mstr\u001b[39m \u001b[39m=\u001b[39m \u001b[39mself\u001b[39m\u001b[39m.\u001b[39mhost\n",
      "File \u001b[1;32m~\\AppData\\Local\\Packages\\PythonSoftwareFoundation.Python.3.11_qbz5n2kfra8p0\\LocalCache\\local-packages\\Python311\\site-packages\\urllib3\\connection.py:212\u001b[0m, in \u001b[0;36mHTTPConnection._new_conn\u001b[1;34m(self)\u001b[0m\n\u001b[0;32m    211\u001b[0m \u001b[39mexcept\u001b[39;00m SocketTimeout \u001b[39mas\u001b[39;00m e:\n\u001b[1;32m--> 212\u001b[0m     \u001b[39mraise\u001b[39;00m ConnectTimeoutError(\n\u001b[0;32m    213\u001b[0m         \u001b[39mself\u001b[39m,\n\u001b[0;32m    214\u001b[0m         \u001b[39mf\u001b[39m\u001b[39m\"\u001b[39m\u001b[39mConnection to \u001b[39m\u001b[39m{\u001b[39;00m\u001b[39mself\u001b[39m\u001b[39m.\u001b[39mhost\u001b[39m}\u001b[39;00m\u001b[39m timed out. (connect timeout=\u001b[39m\u001b[39m{\u001b[39;00m\u001b[39mself\u001b[39m\u001b[39m.\u001b[39mtimeout\u001b[39m}\u001b[39;00m\u001b[39m)\u001b[39m\u001b[39m\"\u001b[39m,\n\u001b[0;32m    215\u001b[0m     ) \u001b[39mfrom\u001b[39;00m \u001b[39me\u001b[39;00m\n\u001b[0;32m    217\u001b[0m \u001b[39mexcept\u001b[39;00m \u001b[39mOSError\u001b[39;00m \u001b[39mas\u001b[39;00m e:\n",
      "\u001b[1;31mConnectTimeoutError\u001b[0m: (<urllib3.connection.HTTPSConnection object at 0x000001FD9CB66490>, 'Connection to edgedl.me.gvt1.com timed out. (connect timeout=None)')",
      "\nThe above exception was the direct cause of the following exception:\n",
      "\u001b[1;31mMaxRetryError\u001b[0m                             Traceback (most recent call last)",
      "File \u001b[1;32m~\\AppData\\Local\\Packages\\PythonSoftwareFoundation.Python.3.11_qbz5n2kfra8p0\\LocalCache\\local-packages\\Python311\\site-packages\\requests\\adapters.py:486\u001b[0m, in \u001b[0;36mHTTPAdapter.send\u001b[1;34m(self, request, stream, timeout, verify, cert, proxies)\u001b[0m\n\u001b[0;32m    485\u001b[0m \u001b[39mtry\u001b[39;00m:\n\u001b[1;32m--> 486\u001b[0m     resp \u001b[39m=\u001b[39m conn\u001b[39m.\u001b[39;49murlopen(\n\u001b[0;32m    487\u001b[0m         method\u001b[39m=\u001b[39;49mrequest\u001b[39m.\u001b[39;49mmethod,\n\u001b[0;32m    488\u001b[0m         url\u001b[39m=\u001b[39;49murl,\n\u001b[0;32m    489\u001b[0m         body\u001b[39m=\u001b[39;49mrequest\u001b[39m.\u001b[39;49mbody,\n\u001b[0;32m    490\u001b[0m         headers\u001b[39m=\u001b[39;49mrequest\u001b[39m.\u001b[39;49mheaders,\n\u001b[0;32m    491\u001b[0m         redirect\u001b[39m=\u001b[39;49m\u001b[39mFalse\u001b[39;49;00m,\n\u001b[0;32m    492\u001b[0m         assert_same_host\u001b[39m=\u001b[39;49m\u001b[39mFalse\u001b[39;49;00m,\n\u001b[0;32m    493\u001b[0m         preload_content\u001b[39m=\u001b[39;49m\u001b[39mFalse\u001b[39;49;00m,\n\u001b[0;32m    494\u001b[0m         decode_content\u001b[39m=\u001b[39;49m\u001b[39mFalse\u001b[39;49;00m,\n\u001b[0;32m    495\u001b[0m         retries\u001b[39m=\u001b[39;49m\u001b[39mself\u001b[39;49m\u001b[39m.\u001b[39;49mmax_retries,\n\u001b[0;32m    496\u001b[0m         timeout\u001b[39m=\u001b[39;49mtimeout,\n\u001b[0;32m    497\u001b[0m         chunked\u001b[39m=\u001b[39;49mchunked,\n\u001b[0;32m    498\u001b[0m     )\n\u001b[0;32m    500\u001b[0m \u001b[39mexcept\u001b[39;00m (ProtocolError, \u001b[39mOSError\u001b[39;00m) \u001b[39mas\u001b[39;00m err:\n",
      "File \u001b[1;32m~\\AppData\\Local\\Packages\\PythonSoftwareFoundation.Python.3.11_qbz5n2kfra8p0\\LocalCache\\local-packages\\Python311\\site-packages\\urllib3\\connectionpool.py:844\u001b[0m, in \u001b[0;36mHTTPConnectionPool.urlopen\u001b[1;34m(self, method, url, body, headers, retries, redirect, assert_same_host, timeout, pool_timeout, release_conn, chunked, body_pos, preload_content, decode_content, **response_kw)\u001b[0m\n\u001b[0;32m    842\u001b[0m     new_e \u001b[39m=\u001b[39m ProtocolError(\u001b[39m\"\u001b[39m\u001b[39mConnection aborted.\u001b[39m\u001b[39m\"\u001b[39m, new_e)\n\u001b[1;32m--> 844\u001b[0m retries \u001b[39m=\u001b[39m retries\u001b[39m.\u001b[39;49mincrement(\n\u001b[0;32m    845\u001b[0m     method, url, error\u001b[39m=\u001b[39;49mnew_e, _pool\u001b[39m=\u001b[39;49m\u001b[39mself\u001b[39;49m, _stacktrace\u001b[39m=\u001b[39;49msys\u001b[39m.\u001b[39;49mexc_info()[\u001b[39m2\u001b[39;49m]\n\u001b[0;32m    846\u001b[0m )\n\u001b[0;32m    847\u001b[0m retries\u001b[39m.\u001b[39msleep()\n",
      "File \u001b[1;32m~\\AppData\\Local\\Packages\\PythonSoftwareFoundation.Python.3.11_qbz5n2kfra8p0\\LocalCache\\local-packages\\Python311\\site-packages\\urllib3\\util\\retry.py:515\u001b[0m, in \u001b[0;36mRetry.increment\u001b[1;34m(self, method, url, response, error, _pool, _stacktrace)\u001b[0m\n\u001b[0;32m    514\u001b[0m     reason \u001b[39m=\u001b[39m error \u001b[39mor\u001b[39;00m ResponseError(cause)\n\u001b[1;32m--> 515\u001b[0m     \u001b[39mraise\u001b[39;00m MaxRetryError(_pool, url, reason) \u001b[39mfrom\u001b[39;00m \u001b[39mreason\u001b[39;00m  \u001b[39m# type: ignore[arg-type]\u001b[39;00m\n\u001b[0;32m    517\u001b[0m log\u001b[39m.\u001b[39mdebug(\u001b[39m\"\u001b[39m\u001b[39mIncremented Retry for (url=\u001b[39m\u001b[39m'\u001b[39m\u001b[39m%s\u001b[39;00m\u001b[39m'\u001b[39m\u001b[39m): \u001b[39m\u001b[39m%r\u001b[39;00m\u001b[39m\"\u001b[39m, url, new_retry)\n",
      "\u001b[1;31mMaxRetryError\u001b[0m: HTTPSConnectionPool(host='edgedl.me.gvt1.com', port=443): Max retries exceeded with url: /edgedl/chrome/chrome-for-testing/116.0.5845.96/win32/chromedriver-win32.zip (Caused by ConnectTimeoutError(<urllib3.connection.HTTPSConnection object at 0x000001FD9CB66490>, 'Connection to edgedl.me.gvt1.com timed out. (connect timeout=None)'))",
      "\nDuring handling of the above exception, another exception occurred:\n",
      "\u001b[1;31mConnectTimeout\u001b[0m                            Traceback (most recent call last)",
      "File \u001b[1;32m~\\AppData\\Local\\Packages\\PythonSoftwareFoundation.Python.3.11_qbz5n2kfra8p0\\LocalCache\\local-packages\\Python311\\site-packages\\webdriver_manager\\core\\http.py:32\u001b[0m, in \u001b[0;36mWDMHttpClient.get\u001b[1;34m(self, url, **kwargs)\u001b[0m\n\u001b[0;32m     31\u001b[0m \u001b[39mtry\u001b[39;00m:\n\u001b[1;32m---> 32\u001b[0m     resp \u001b[39m=\u001b[39m requests\u001b[39m.\u001b[39;49mget(\n\u001b[0;32m     33\u001b[0m         url\u001b[39m=\u001b[39;49murl, verify\u001b[39m=\u001b[39;49m\u001b[39mself\u001b[39;49m\u001b[39m.\u001b[39;49m_ssl_verify, stream\u001b[39m=\u001b[39;49m\u001b[39mTrue\u001b[39;49;00m, \u001b[39m*\u001b[39;49m\u001b[39m*\u001b[39;49mkwargs)\n\u001b[0;32m     34\u001b[0m \u001b[39mexcept\u001b[39;00m exceptions\u001b[39m.\u001b[39mConnectionError:\n",
      "File \u001b[1;32m~\\AppData\\Local\\Packages\\PythonSoftwareFoundation.Python.3.11_qbz5n2kfra8p0\\LocalCache\\local-packages\\Python311\\site-packages\\requests\\api.py:73\u001b[0m, in \u001b[0;36mget\u001b[1;34m(url, params, **kwargs)\u001b[0m\n\u001b[0;32m     63\u001b[0m \u001b[39m\u001b[39m\u001b[39mr\u001b[39m\u001b[39m\"\"\"Sends a GET request.\u001b[39;00m\n\u001b[0;32m     64\u001b[0m \n\u001b[0;32m     65\u001b[0m \u001b[39m:param url: URL for the new :class:`Request` object.\u001b[39;00m\n\u001b[1;32m   (...)\u001b[0m\n\u001b[0;32m     70\u001b[0m \u001b[39m:rtype: requests.Response\u001b[39;00m\n\u001b[0;32m     71\u001b[0m \u001b[39m\"\"\"\u001b[39;00m\n\u001b[1;32m---> 73\u001b[0m \u001b[39mreturn\u001b[39;00m request(\u001b[39m\"\u001b[39;49m\u001b[39mget\u001b[39;49m\u001b[39m\"\u001b[39;49m, url, params\u001b[39m=\u001b[39;49mparams, \u001b[39m*\u001b[39;49m\u001b[39m*\u001b[39;49mkwargs)\n",
      "File \u001b[1;32m~\\AppData\\Local\\Packages\\PythonSoftwareFoundation.Python.3.11_qbz5n2kfra8p0\\LocalCache\\local-packages\\Python311\\site-packages\\requests\\api.py:59\u001b[0m, in \u001b[0;36mrequest\u001b[1;34m(method, url, **kwargs)\u001b[0m\n\u001b[0;32m     58\u001b[0m \u001b[39mwith\u001b[39;00m sessions\u001b[39m.\u001b[39mSession() \u001b[39mas\u001b[39;00m session:\n\u001b[1;32m---> 59\u001b[0m     \u001b[39mreturn\u001b[39;00m session\u001b[39m.\u001b[39;49mrequest(method\u001b[39m=\u001b[39;49mmethod, url\u001b[39m=\u001b[39;49murl, \u001b[39m*\u001b[39;49m\u001b[39m*\u001b[39;49mkwargs)\n",
      "File \u001b[1;32m~\\AppData\\Local\\Packages\\PythonSoftwareFoundation.Python.3.11_qbz5n2kfra8p0\\LocalCache\\local-packages\\Python311\\site-packages\\requests\\sessions.py:589\u001b[0m, in \u001b[0;36mSession.request\u001b[1;34m(self, method, url, params, data, headers, cookies, files, auth, timeout, allow_redirects, proxies, hooks, stream, verify, cert, json)\u001b[0m\n\u001b[0;32m    588\u001b[0m send_kwargs\u001b[39m.\u001b[39mupdate(settings)\n\u001b[1;32m--> 589\u001b[0m resp \u001b[39m=\u001b[39m \u001b[39mself\u001b[39;49m\u001b[39m.\u001b[39;49msend(prep, \u001b[39m*\u001b[39;49m\u001b[39m*\u001b[39;49msend_kwargs)\n\u001b[0;32m    591\u001b[0m \u001b[39mreturn\u001b[39;00m resp\n",
      "File \u001b[1;32m~\\AppData\\Local\\Packages\\PythonSoftwareFoundation.Python.3.11_qbz5n2kfra8p0\\LocalCache\\local-packages\\Python311\\site-packages\\requests\\sessions.py:703\u001b[0m, in \u001b[0;36mSession.send\u001b[1;34m(self, request, **kwargs)\u001b[0m\n\u001b[0;32m    702\u001b[0m \u001b[39m# Send the request\u001b[39;00m\n\u001b[1;32m--> 703\u001b[0m r \u001b[39m=\u001b[39m adapter\u001b[39m.\u001b[39;49msend(request, \u001b[39m*\u001b[39;49m\u001b[39m*\u001b[39;49mkwargs)\n\u001b[0;32m    705\u001b[0m \u001b[39m# Total elapsed time of the request (approximately)\u001b[39;00m\n",
      "File \u001b[1;32m~\\AppData\\Local\\Packages\\PythonSoftwareFoundation.Python.3.11_qbz5n2kfra8p0\\LocalCache\\local-packages\\Python311\\site-packages\\requests\\adapters.py:507\u001b[0m, in \u001b[0;36mHTTPAdapter.send\u001b[1;34m(self, request, stream, timeout, verify, cert, proxies)\u001b[0m\n\u001b[0;32m    506\u001b[0m     \u001b[39mif\u001b[39;00m \u001b[39mnot\u001b[39;00m \u001b[39misinstance\u001b[39m(e\u001b[39m.\u001b[39mreason, NewConnectionError):\n\u001b[1;32m--> 507\u001b[0m         \u001b[39mraise\u001b[39;00m ConnectTimeout(e, request\u001b[39m=\u001b[39mrequest)\n\u001b[0;32m    509\u001b[0m \u001b[39mif\u001b[39;00m \u001b[39misinstance\u001b[39m(e\u001b[39m.\u001b[39mreason, ResponseError):\n",
      "\u001b[1;31mConnectTimeout\u001b[0m: HTTPSConnectionPool(host='edgedl.me.gvt1.com', port=443): Max retries exceeded with url: /edgedl/chrome/chrome-for-testing/116.0.5845.96/win32/chromedriver-win32.zip (Caused by ConnectTimeoutError(<urllib3.connection.HTTPSConnection object at 0x000001FD9CB66490>, 'Connection to edgedl.me.gvt1.com timed out. (connect timeout=None)'))",
      "\nDuring handling of the above exception, another exception occurred:\n",
      "\u001b[1;31mConnectionError\u001b[0m                           Traceback (most recent call last)",
      "\u001b[1;32mc:\\Users\\henry\\OneDrive - Louisiana State University\\Desktop\\Dota2Predictor\\webscraper.ipynb Cell 8\u001b[0m line \u001b[0;36m1\n\u001b[1;32m----> <a href='vscode-notebook-cell:/c%3A/Users/henry/OneDrive%20-%20Louisiana%20State%20University/Desktop/Dota2Predictor/webscraper.ipynb#X35sZmlsZQ%3D%3D?line=0'>1</a>\u001b[0m driver \u001b[39m=\u001b[39m webdriver\u001b[39m.\u001b[39mChrome(service\u001b[39m=\u001b[39mService(ChromeDriverManager()\u001b[39m.\u001b[39;49minstall()),options\u001b[39m=\u001b[39moptions)\n\u001b[0;32m      <a href='vscode-notebook-cell:/c%3A/Users/henry/OneDrive%20-%20Louisiana%20State%20University/Desktop/Dota2Predictor/webscraper.ipynb#X35sZmlsZQ%3D%3D?line=1'>2</a>\u001b[0m driver\u001b[39m.\u001b[39mset_page_load_timeout(\u001b[39m60\u001b[39m)\n\u001b[0;32m      <a href='vscode-notebook-cell:/c%3A/Users/henry/OneDrive%20-%20Louisiana%20State%20University/Desktop/Dota2Predictor/webscraper.ipynb#X35sZmlsZQ%3D%3D?line=2'>3</a>\u001b[0m driver\u001b[39m.\u001b[39mget(\u001b[39m\"\u001b[39m\u001b[39mhttps://stratz.com/players/122262109\u001b[39m\u001b[39m\"\u001b[39m) \u001b[39m# Open the link \u001b[39;00m\n",
      "File \u001b[1;32m~\\AppData\\Local\\Packages\\PythonSoftwareFoundation.Python.3.11_qbz5n2kfra8p0\\LocalCache\\local-packages\\Python311\\site-packages\\webdriver_manager\\chrome.py:40\u001b[0m, in \u001b[0;36mChromeDriverManager.install\u001b[1;34m(self)\u001b[0m\n\u001b[0;32m     39\u001b[0m \u001b[39mdef\u001b[39;00m \u001b[39minstall\u001b[39m(\u001b[39mself\u001b[39m) \u001b[39m-\u001b[39m\u001b[39m>\u001b[39m \u001b[39mstr\u001b[39m:\n\u001b[1;32m---> 40\u001b[0m     driver_path \u001b[39m=\u001b[39m \u001b[39mself\u001b[39;49m\u001b[39m.\u001b[39;49m_get_driver_binary_path(\u001b[39mself\u001b[39;49m\u001b[39m.\u001b[39;49mdriver)\n\u001b[0;32m     41\u001b[0m     os\u001b[39m.\u001b[39mchmod(driver_path, \u001b[39m0o755\u001b[39m)\n\u001b[0;32m     42\u001b[0m     \u001b[39mreturn\u001b[39;00m driver_path\n",
      "File \u001b[1;32m~\\AppData\\Local\\Packages\\PythonSoftwareFoundation.Python.3.11_qbz5n2kfra8p0\\LocalCache\\local-packages\\Python311\\site-packages\\webdriver_manager\\core\\manager.py:40\u001b[0m, in \u001b[0;36mDriverManager._get_driver_binary_path\u001b[1;34m(self, driver)\u001b[0m\n\u001b[0;32m     37\u001b[0m     \u001b[39mreturn\u001b[39;00m binary_path\n\u001b[0;32m     39\u001b[0m os_type \u001b[39m=\u001b[39m \u001b[39mself\u001b[39m\u001b[39m.\u001b[39mget_os_type()\n\u001b[1;32m---> 40\u001b[0m file \u001b[39m=\u001b[39m \u001b[39mself\u001b[39;49m\u001b[39m.\u001b[39;49m_download_manager\u001b[39m.\u001b[39;49mdownload_file(driver\u001b[39m.\u001b[39;49mget_driver_download_url(os_type))\n\u001b[0;32m     41\u001b[0m binary_path \u001b[39m=\u001b[39m \u001b[39mself\u001b[39m\u001b[39m.\u001b[39m_cache_manager\u001b[39m.\u001b[39msave_file_to_cache(driver, file)\n\u001b[0;32m     42\u001b[0m \u001b[39mreturn\u001b[39;00m binary_path\n",
      "File \u001b[1;32m~\\AppData\\Local\\Packages\\PythonSoftwareFoundation.Python.3.11_qbz5n2kfra8p0\\LocalCache\\local-packages\\Python311\\site-packages\\webdriver_manager\\core\\download_manager.py:29\u001b[0m, in \u001b[0;36mWDMDownloadManager.download_file\u001b[1;34m(self, url)\u001b[0m\n\u001b[0;32m     27\u001b[0m \u001b[39mdef\u001b[39;00m \u001b[39mdownload_file\u001b[39m(\u001b[39mself\u001b[39m, url: \u001b[39mstr\u001b[39m) \u001b[39m-\u001b[39m\u001b[39m>\u001b[39m File:\n\u001b[0;32m     28\u001b[0m     log(\u001b[39mf\u001b[39m\u001b[39m\"\u001b[39m\u001b[39mAbout to download new driver from \u001b[39m\u001b[39m{\u001b[39;00murl\u001b[39m}\u001b[39;00m\u001b[39m\"\u001b[39m)\n\u001b[1;32m---> 29\u001b[0m     response \u001b[39m=\u001b[39m \u001b[39mself\u001b[39;49m\u001b[39m.\u001b[39;49m_http_client\u001b[39m.\u001b[39;49mget(url)\n\u001b[0;32m     30\u001b[0m     log(\u001b[39mf\u001b[39m\u001b[39m\"\u001b[39m\u001b[39mDriver downloading response is \u001b[39m\u001b[39m{\u001b[39;00mresponse\u001b[39m.\u001b[39mstatus_code\u001b[39m}\u001b[39;00m\u001b[39m\"\u001b[39m)\n\u001b[0;32m     31\u001b[0m     file_name \u001b[39m=\u001b[39m \u001b[39mself\u001b[39m\u001b[39m.\u001b[39mextract_filename_from_url(url)\n",
      "File \u001b[1;32m~\\AppData\\Local\\Packages\\PythonSoftwareFoundation.Python.3.11_qbz5n2kfra8p0\\LocalCache\\local-packages\\Python311\\site-packages\\webdriver_manager\\core\\http.py:35\u001b[0m, in \u001b[0;36mWDMHttpClient.get\u001b[1;34m(self, url, **kwargs)\u001b[0m\n\u001b[0;32m     32\u001b[0m     resp \u001b[39m=\u001b[39m requests\u001b[39m.\u001b[39mget(\n\u001b[0;32m     33\u001b[0m         url\u001b[39m=\u001b[39murl, verify\u001b[39m=\u001b[39m\u001b[39mself\u001b[39m\u001b[39m.\u001b[39m_ssl_verify, stream\u001b[39m=\u001b[39m\u001b[39mTrue\u001b[39;00m, \u001b[39m*\u001b[39m\u001b[39m*\u001b[39mkwargs)\n\u001b[0;32m     34\u001b[0m \u001b[39mexcept\u001b[39;00m exceptions\u001b[39m.\u001b[39mConnectionError:\n\u001b[1;32m---> 35\u001b[0m     \u001b[39mraise\u001b[39;00m exceptions\u001b[39m.\u001b[39mConnectionError(\u001b[39mf\u001b[39m\u001b[39m\"\u001b[39m\u001b[39mCould not reach host. Are you offline?\u001b[39m\u001b[39m\"\u001b[39m)\n\u001b[0;32m     36\u001b[0m \u001b[39mself\u001b[39m\u001b[39m.\u001b[39mvalidate_response(resp)\n\u001b[0;32m     37\u001b[0m \u001b[39mreturn\u001b[39;00m resp\n",
      "\u001b[1;31mConnectionError\u001b[0m: Could not reach host. Are you offline?"
     ]
    }
   ],
   "source": [
    "driver = webdriver.Chrome(service=Service(ChromeDriverManager().install()),options=options)\n",
    "driver.set_page_load_timeout(60)\n",
    "driver.get(\"https://stratz.com/players/122262109\") # Open the link "
   ]
  },
  {
   "cell_type": "code",
   "execution_count": null,
   "metadata": {},
   "outputs": [],
   "source": [
    "\n",
    "driver.maximize_window() \n",
    "wait = WebDriverWait(driver,10) "
   ]
  },
  {
   "cell_type": "code",
   "execution_count": null,
   "metadata": {},
   "outputs": [],
   "source": [
    "def find_element (element):\n",
    "    element_to_be_found = wait.until(EC.element_to_be_clickable(driver.find_element(\"xpath\", element)))\n",
    "    return element_to_be_found"
   ]
  },
  {
   "cell_type": "markdown",
   "metadata": {},
   "source": [
    "try:\n",
    "    robot = wait.until(EC.element_to_be_clickable(driver.find_element(\"xpath\", '//span[@class=\"hitagi__sc-t22b45-1 gvSdww\" and text() = \"I\\'m not a robot\"]')))\n",
    "    robot.click()\n",
    "except NoSuchElementException:\n",
    "    pass"
   ]
  },
  {
   "cell_type": "code",
   "execution_count": null,
   "metadata": {},
   "outputs": [],
   "source": [
    "positions_box = find_element('//span[@class=\"hitagi__sc-6oal1n-0 dPCzf\" and text() = \"All positions\"]')\n",
    "positions_box.click()   "
   ]
  },
  {
   "cell_type": "code",
   "execution_count": null,
   "metadata": {},
   "outputs": [],
   "source": [
    "filterby_hard_support = wait.until(EC.presence_of_element_located((\"xpath\",'//span[@class=\"hitagi__sc-6oal1n-0 pvdkf\" and text() = \"Hard Support\"]')))\n",
    "filterby_hard_support.click()\n",
    "\n",
    "\n"
   ]
  },
  {
   "cell_type": "code",
   "execution_count": null,
   "metadata": {},
   "outputs": [],
   "source": [
    "#Close out of the Roles dropdown box\n",
    "driver.execute_script(f\"window.scrollTo({300}, {200});\")\n",
    "driver.execute_script(\"document.elementFromPoint(arguments[0], arguments[1]).click();\", 300, 200)"
   ]
  },
  {
   "cell_type": "code",
   "execution_count": null,
   "metadata": {},
   "outputs": [],
   "source": [
    "open_match_type_box = find_element('//span[@class=\"hitagi__sc-6oal1n-0 dPCzf\" and text() = \"All lobby types\"]')\n",
    "actions = ActionChains(driver)\n",
    "actions.move_to_element(open_match_type_box).click().perform()\n",
    "\n",
    "\n"
   ]
  },
  {
   "cell_type": "code",
   "execution_count": null,
   "metadata": {},
   "outputs": [],
   "source": [
    "filterby_ranked = wait.until(EC.presence_of_element_located((By.XPATH,'//span[@class=\"hitagi__sc-6oal1n-0 pvdkf\" and text() = \"Ranked\"]')))\n",
    "actions.move_to_element(filterby_ranked).click().perform()\n",
    "time.sleep(1)"
   ]
  },
  {
   "cell_type": "code",
   "execution_count": null,
   "metadata": {},
   "outputs": [],
   "source": [
    "link_tags = driver.find_elements(\"xpath\", '//a[contains(@class, \"hitagi__sc-1hmgwow-0\")]')\n",
    "\n",
    "   "
   ]
  },
  {
   "cell_type": "code",
   "execution_count": null,
   "metadata": {},
   "outputs": [],
   "source": [
    "match_tags = soup.find_all('a', class_ = \"hitagi__sc-1hmgwow-0\")"
   ]
  },
  {
   "cell_type": "code",
   "execution_count": null,
   "metadata": {},
   "outputs": [],
   "source": [
    "links = driver.find_elements(\"xpath\", '//a[contains(@class, \"hitagi__sc-1hmgwow-0\")]')\n",
    "#for i in links:\n",
    "#   print(i)"
   ]
  },
  {
   "cell_type": "code",
   "execution_count": null,
   "metadata": {},
   "outputs": [
    {
     "ename": "NoSuchWindowException",
     "evalue": "Message: no such window: target window already closed\nfrom unknown error: web view not found\n  (Session info: chrome=116.0.5845.142)\nStacktrace:\n\tGetHandleVerifier [0x008E37C3+48947]\n\t(No symbol) [0x00878551]\n\t(No symbol) [0x0077C92D]\n\t(No symbol) [0x007636E5]\n\t(No symbol) [0x007C8CDB]\n\t(No symbol) [0x007D7113]\n\t(No symbol) [0x007C4E86]\n\t(No symbol) [0x007A16C7]\n\t(No symbol) [0x007A284D]\n\tGetHandleVerifier [0x00B2FDF9+2458985]\n\tGetHandleVerifier [0x00B7744F+2751423]\n\tGetHandleVerifier [0x00B71361+2726609]\n\tGetHandleVerifier [0x00960680+560624]\n\t(No symbol) [0x0088238C]\n\t(No symbol) [0x0087E268]\n\t(No symbol) [0x0087E392]\n\t(No symbol) [0x008710B7]\n\tBaseThreadInitThunk [0x762F7D59+25]\n\tRtlInitializeExceptionChain [0x77AFB79B+107]\n\tRtlClearBits [0x77AFB71F+191]\n",
     "output_type": "error",
     "traceback": [
      "\u001b[1;31m---------------------------------------------------------------------------\u001b[0m",
      "\u001b[1;31mNoSuchWindowException\u001b[0m                     Traceback (most recent call last)",
      "Cell \u001b[1;32mIn[44], line 5\u001b[0m\n\u001b[0;32m      2\u001b[0m links_str \u001b[39m=\u001b[39m []\n\u001b[0;32m      4\u001b[0m \u001b[39mfor\u001b[39;00m i \u001b[39min\u001b[39;00m link_tags:\n\u001b[1;32m----> 5\u001b[0m     tag \u001b[39m=\u001b[39m i\u001b[39m.\u001b[39;49mget_attribute(\u001b[39m'\u001b[39;49m\u001b[39mouterHTML\u001b[39;49m\u001b[39m'\u001b[39;49m)\n\u001b[0;32m      6\u001b[0m     extract_href \u001b[39m=\u001b[39m re\u001b[39m.\u001b[39msearch(\u001b[39mr\u001b[39m\u001b[39m'\u001b[39m\u001b[39mhref=\u001b[39m\u001b[39m\"\u001b[39m\u001b[39m/matches/(\u001b[39m\u001b[39m\\\u001b[39m\u001b[39md+)\u001b[39m\u001b[39m\"\u001b[39m\u001b[39m'\u001b[39m,tag)\n\u001b[0;32m      7\u001b[0m     match_id \u001b[39m=\u001b[39m extract_href\u001b[39m.\u001b[39mgroup(\u001b[39m1\u001b[39m)\n",
      "File \u001b[1;32m~\\AppData\\Local\\Packages\\PythonSoftwareFoundation.Python.3.11_qbz5n2kfra8p0\\LocalCache\\local-packages\\Python311\\site-packages\\selenium\\webdriver\\remote\\webelement.py:178\u001b[0m, in \u001b[0;36mWebElement.get_attribute\u001b[1;34m(self, name)\u001b[0m\n\u001b[0;32m    176\u001b[0m \u001b[39mif\u001b[39;00m getAttribute_js \u001b[39mis\u001b[39;00m \u001b[39mNone\u001b[39;00m:\n\u001b[0;32m    177\u001b[0m     _load_js()\n\u001b[1;32m--> 178\u001b[0m attribute_value \u001b[39m=\u001b[39m \u001b[39mself\u001b[39;49m\u001b[39m.\u001b[39;49mparent\u001b[39m.\u001b[39;49mexecute_script(\n\u001b[0;32m    179\u001b[0m     \u001b[39mf\u001b[39;49m\u001b[39m\"\u001b[39;49m\u001b[39m/* getAttribute */return (\u001b[39;49m\u001b[39m{\u001b[39;49;00mgetAttribute_js\u001b[39m}\u001b[39;49;00m\u001b[39m).apply(null, arguments);\u001b[39;49m\u001b[39m\"\u001b[39;49m, \u001b[39mself\u001b[39;49m, name\n\u001b[0;32m    180\u001b[0m )\n\u001b[0;32m    181\u001b[0m \u001b[39mreturn\u001b[39;00m attribute_value\n",
      "File \u001b[1;32m~\\AppData\\Local\\Packages\\PythonSoftwareFoundation.Python.3.11_qbz5n2kfra8p0\\LocalCache\\local-packages\\Python311\\site-packages\\selenium\\webdriver\\remote\\webdriver.py:405\u001b[0m, in \u001b[0;36mWebDriver.execute_script\u001b[1;34m(self, script, *args)\u001b[0m\n\u001b[0;32m    402\u001b[0m converted_args \u001b[39m=\u001b[39m \u001b[39mlist\u001b[39m(args)\n\u001b[0;32m    403\u001b[0m command \u001b[39m=\u001b[39m Command\u001b[39m.\u001b[39mW3C_EXECUTE_SCRIPT\n\u001b[1;32m--> 405\u001b[0m \u001b[39mreturn\u001b[39;00m \u001b[39mself\u001b[39;49m\u001b[39m.\u001b[39;49mexecute(command, {\u001b[39m\"\u001b[39;49m\u001b[39mscript\u001b[39;49m\u001b[39m\"\u001b[39;49m: script, \u001b[39m\"\u001b[39;49m\u001b[39margs\u001b[39;49m\u001b[39m\"\u001b[39;49m: converted_args})[\u001b[39m\"\u001b[39m\u001b[39mvalue\u001b[39m\u001b[39m\"\u001b[39m]\n",
      "File \u001b[1;32m~\\AppData\\Local\\Packages\\PythonSoftwareFoundation.Python.3.11_qbz5n2kfra8p0\\LocalCache\\local-packages\\Python311\\site-packages\\selenium\\webdriver\\remote\\webdriver.py:345\u001b[0m, in \u001b[0;36mWebDriver.execute\u001b[1;34m(self, driver_command, params)\u001b[0m\n\u001b[0;32m    343\u001b[0m response \u001b[39m=\u001b[39m \u001b[39mself\u001b[39m\u001b[39m.\u001b[39mcommand_executor\u001b[39m.\u001b[39mexecute(driver_command, params)\n\u001b[0;32m    344\u001b[0m \u001b[39mif\u001b[39;00m response:\n\u001b[1;32m--> 345\u001b[0m     \u001b[39mself\u001b[39;49m\u001b[39m.\u001b[39;49merror_handler\u001b[39m.\u001b[39;49mcheck_response(response)\n\u001b[0;32m    346\u001b[0m     response[\u001b[39m\"\u001b[39m\u001b[39mvalue\u001b[39m\u001b[39m\"\u001b[39m] \u001b[39m=\u001b[39m \u001b[39mself\u001b[39m\u001b[39m.\u001b[39m_unwrap_value(response\u001b[39m.\u001b[39mget(\u001b[39m\"\u001b[39m\u001b[39mvalue\u001b[39m\u001b[39m\"\u001b[39m, \u001b[39mNone\u001b[39;00m))\n\u001b[0;32m    347\u001b[0m     \u001b[39mreturn\u001b[39;00m response\n",
      "File \u001b[1;32m~\\AppData\\Local\\Packages\\PythonSoftwareFoundation.Python.3.11_qbz5n2kfra8p0\\LocalCache\\local-packages\\Python311\\site-packages\\selenium\\webdriver\\remote\\errorhandler.py:229\u001b[0m, in \u001b[0;36mErrorHandler.check_response\u001b[1;34m(self, response)\u001b[0m\n\u001b[0;32m    227\u001b[0m         alert_text \u001b[39m=\u001b[39m value[\u001b[39m\"\u001b[39m\u001b[39malert\u001b[39m\u001b[39m\"\u001b[39m]\u001b[39m.\u001b[39mget(\u001b[39m\"\u001b[39m\u001b[39mtext\u001b[39m\u001b[39m\"\u001b[39m)\n\u001b[0;32m    228\u001b[0m     \u001b[39mraise\u001b[39;00m exception_class(message, screen, stacktrace, alert_text)  \u001b[39m# type: ignore[call-arg]  # mypy is not smart enough here\u001b[39;00m\n\u001b[1;32m--> 229\u001b[0m \u001b[39mraise\u001b[39;00m exception_class(message, screen, stacktrace)\n",
      "\u001b[1;31mNoSuchWindowException\u001b[0m: Message: no such window: target window already closed\nfrom unknown error: web view not found\n  (Session info: chrome=116.0.5845.142)\nStacktrace:\n\tGetHandleVerifier [0x008E37C3+48947]\n\t(No symbol) [0x00878551]\n\t(No symbol) [0x0077C92D]\n\t(No symbol) [0x007636E5]\n\t(No symbol) [0x007C8CDB]\n\t(No symbol) [0x007D7113]\n\t(No symbol) [0x007C4E86]\n\t(No symbol) [0x007A16C7]\n\t(No symbol) [0x007A284D]\n\tGetHandleVerifier [0x00B2FDF9+2458985]\n\tGetHandleVerifier [0x00B7744F+2751423]\n\tGetHandleVerifier [0x00B71361+2726609]\n\tGetHandleVerifier [0x00960680+560624]\n\t(No symbol) [0x0088238C]\n\t(No symbol) [0x0087E268]\n\t(No symbol) [0x0087E392]\n\t(No symbol) [0x008710B7]\n\tBaseThreadInitThunk [0x762F7D59+25]\n\tRtlInitializeExceptionChain [0x77AFB79B+107]\n\tRtlClearBits [0x77AFB71F+191]\n"
     ]
    }
   ],
   "source": [
    "match_ids = []\n",
    "links_str = []\n",
    "\n",
    "for i in link_tags:\n",
    "    tag = i.get_attribute('outerHTML')\n",
    "    extract_href = re.search(r'href=\"/matches/(\\d+)\"',tag)\n",
    "    match_id = extract_href.group(1)\n",
    "    match_ids.append(match_id)\n",
    "    href = f'/matches/{match_id}'\n",
    "    link = driver.find_element(By.XPATH, f\"//a[@href='{href}']\")\n",
    "    links_str.append(link.get_attribute('href'))"
   ]
  },
  {
   "cell_type": "code",
   "execution_count": null,
   "metadata": {},
   "outputs": [
    {
     "name": "stdout",
     "output_type": "stream",
     "text": [
      "0\n"
     ]
    }
   ],
   "source": [
    "loop = 0\n",
    "print(loop)"
   ]
  },
  {
   "cell_type": "code",
   "execution_count": null,
   "metadata": {},
   "outputs": [
    {
     "name": "stdout",
     "output_type": "stream",
     "text": [
      "7298711135\n",
      "['gyrocopter', 'nevermore', 'chaos_knight', 'venomancer', 'phoenix']\n",
      "17,576\n",
      "0                Enemy_po5\n",
      "Hero          Witch Doctor\n",
      "Result           Won Match\n",
      "MatchID         7280229073\n",
      "Date             8/11/2023\n",
      "Duration          42:53:00\n",
      "Kills                   11\n",
      "Deaths                  10\n",
      "Assists                 16\n",
      "Enemy_pos1             NaN\n",
      "Enemy_pos2             NaN\n",
      "Enemy_pos3             NaN\n",
      "Enemy_pos4             NaN\n",
      "Enemy_pos5             NaN\n",
      "Networth               NaN\n",
      "Name: 1, dtype: object\n",
      "loop =  1\n"
     ]
    },
    {
     "ename": "StaleElementReferenceException",
     "evalue": "Message: stale element reference: stale element not found\n  (Session info: chrome=116.0.5845.142); For documentation on this error, please visit: https://www.selenium.dev/documentation/webdriver/troubleshooting/errors#stale-element-reference-exception\nStacktrace:\n\tGetHandleVerifier [0x008E37C3+48947]\n\t(No symbol) [0x00878551]\n\t(No symbol) [0x0077C92D]\n\t(No symbol) [0x0077FD62]\n\t(No symbol) [0x00781292]\n\t(No symbol) [0x007D7DFB]\n\t(No symbol) [0x007C508C]\n\t(No symbol) [0x007D75DA]\n\t(No symbol) [0x007C4E86]\n\t(No symbol) [0x007A16C7]\n\t(No symbol) [0x007A284D]\n\tGetHandleVerifier [0x00B2FDF9+2458985]\n\tGetHandleVerifier [0x00B7744F+2751423]\n\tGetHandleVerifier [0x00B71361+2726609]\n\tGetHandleVerifier [0x00960680+560624]\n\t(No symbol) [0x0088238C]\n\t(No symbol) [0x0087E268]\n\t(No symbol) [0x0087E392]\n\t(No symbol) [0x008710B7]\n\tBaseThreadInitThunk [0x762F7D59+25]\n\tRtlInitializeExceptionChain [0x77AFB79B+107]\n\tRtlClearBits [0x77AFB71F+191]\n",
     "output_type": "error",
     "traceback": [
      "\u001b[1;31m---------------------------------------------------------------------------\u001b[0m",
      "\u001b[1;31mStaleElementReferenceException\u001b[0m            Traceback (most recent call last)",
      "Cell \u001b[1;32mIn[43], line 2\u001b[0m\n\u001b[0;32m      1\u001b[0m \u001b[39mfor\u001b[39;00m matchid, link \u001b[39min\u001b[39;00m \u001b[39mzip\u001b[39m(match_ids, links):\n\u001b[1;32m----> 2\u001b[0m     \u001b[39mif\u001b[39;00m matchid \u001b[39m==\u001b[39m link\u001b[39m.\u001b[39;49mget_attribute(\u001b[39m'\u001b[39;49m\u001b[39mhref\u001b[39;49m\u001b[39m'\u001b[39;49m)\u001b[39m.\u001b[39msplit(\u001b[39m'\u001b[39m\u001b[39m/\u001b[39m\u001b[39m'\u001b[39m)[\u001b[39m4\u001b[39m]:\n\u001b[0;32m      3\u001b[0m         link\u001b[39m.\u001b[39mclick()\n\u001b[0;32m      4\u001b[0m         change_layout \u001b[39m=\u001b[39m wait\u001b[39m.\u001b[39muntil(EC\u001b[39m.\u001b[39mpresence_of_element_located((By\u001b[39m.\u001b[39mXPATH,\u001b[39m'\u001b[39m\u001b[39m//button[@class=\u001b[39m\u001b[39m\"\u001b[39m\u001b[39mhitagi__sc-veaeuk-0 hitagi__sc-t22b45-0 bkzJpl cIxbnM hitagi__sc-19ns3kr-0 lTrRZ\u001b[39m\u001b[39m\"\u001b[39m\u001b[39m][@data-selected=\u001b[39m\u001b[39m\"\u001b[39m\u001b[39mfalse\u001b[39m\u001b[39m\"\u001b[39m\u001b[39m]\u001b[39m\u001b[39m'\u001b[39m)))\n",
      "File \u001b[1;32m~\\AppData\\Local\\Packages\\PythonSoftwareFoundation.Python.3.11_qbz5n2kfra8p0\\LocalCache\\local-packages\\Python311\\site-packages\\selenium\\webdriver\\remote\\webelement.py:178\u001b[0m, in \u001b[0;36mWebElement.get_attribute\u001b[1;34m(self, name)\u001b[0m\n\u001b[0;32m    176\u001b[0m \u001b[39mif\u001b[39;00m getAttribute_js \u001b[39mis\u001b[39;00m \u001b[39mNone\u001b[39;00m:\n\u001b[0;32m    177\u001b[0m     _load_js()\n\u001b[1;32m--> 178\u001b[0m attribute_value \u001b[39m=\u001b[39m \u001b[39mself\u001b[39;49m\u001b[39m.\u001b[39;49mparent\u001b[39m.\u001b[39;49mexecute_script(\n\u001b[0;32m    179\u001b[0m     \u001b[39mf\u001b[39;49m\u001b[39m\"\u001b[39;49m\u001b[39m/* getAttribute */return (\u001b[39;49m\u001b[39m{\u001b[39;49;00mgetAttribute_js\u001b[39m}\u001b[39;49;00m\u001b[39m).apply(null, arguments);\u001b[39;49m\u001b[39m\"\u001b[39;49m, \u001b[39mself\u001b[39;49m, name\n\u001b[0;32m    180\u001b[0m )\n\u001b[0;32m    181\u001b[0m \u001b[39mreturn\u001b[39;00m attribute_value\n",
      "File \u001b[1;32m~\\AppData\\Local\\Packages\\PythonSoftwareFoundation.Python.3.11_qbz5n2kfra8p0\\LocalCache\\local-packages\\Python311\\site-packages\\selenium\\webdriver\\remote\\webdriver.py:405\u001b[0m, in \u001b[0;36mWebDriver.execute_script\u001b[1;34m(self, script, *args)\u001b[0m\n\u001b[0;32m    402\u001b[0m converted_args \u001b[39m=\u001b[39m \u001b[39mlist\u001b[39m(args)\n\u001b[0;32m    403\u001b[0m command \u001b[39m=\u001b[39m Command\u001b[39m.\u001b[39mW3C_EXECUTE_SCRIPT\n\u001b[1;32m--> 405\u001b[0m \u001b[39mreturn\u001b[39;00m \u001b[39mself\u001b[39;49m\u001b[39m.\u001b[39;49mexecute(command, {\u001b[39m\"\u001b[39;49m\u001b[39mscript\u001b[39;49m\u001b[39m\"\u001b[39;49m: script, \u001b[39m\"\u001b[39;49m\u001b[39margs\u001b[39;49m\u001b[39m\"\u001b[39;49m: converted_args})[\u001b[39m\"\u001b[39m\u001b[39mvalue\u001b[39m\u001b[39m\"\u001b[39m]\n",
      "File \u001b[1;32m~\\AppData\\Local\\Packages\\PythonSoftwareFoundation.Python.3.11_qbz5n2kfra8p0\\LocalCache\\local-packages\\Python311\\site-packages\\selenium\\webdriver\\remote\\webdriver.py:345\u001b[0m, in \u001b[0;36mWebDriver.execute\u001b[1;34m(self, driver_command, params)\u001b[0m\n\u001b[0;32m    343\u001b[0m response \u001b[39m=\u001b[39m \u001b[39mself\u001b[39m\u001b[39m.\u001b[39mcommand_executor\u001b[39m.\u001b[39mexecute(driver_command, params)\n\u001b[0;32m    344\u001b[0m \u001b[39mif\u001b[39;00m response:\n\u001b[1;32m--> 345\u001b[0m     \u001b[39mself\u001b[39;49m\u001b[39m.\u001b[39;49merror_handler\u001b[39m.\u001b[39;49mcheck_response(response)\n\u001b[0;32m    346\u001b[0m     response[\u001b[39m\"\u001b[39m\u001b[39mvalue\u001b[39m\u001b[39m\"\u001b[39m] \u001b[39m=\u001b[39m \u001b[39mself\u001b[39m\u001b[39m.\u001b[39m_unwrap_value(response\u001b[39m.\u001b[39mget(\u001b[39m\"\u001b[39m\u001b[39mvalue\u001b[39m\u001b[39m\"\u001b[39m, \u001b[39mNone\u001b[39;00m))\n\u001b[0;32m    347\u001b[0m     \u001b[39mreturn\u001b[39;00m response\n",
      "File \u001b[1;32m~\\AppData\\Local\\Packages\\PythonSoftwareFoundation.Python.3.11_qbz5n2kfra8p0\\LocalCache\\local-packages\\Python311\\site-packages\\selenium\\webdriver\\remote\\errorhandler.py:229\u001b[0m, in \u001b[0;36mErrorHandler.check_response\u001b[1;34m(self, response)\u001b[0m\n\u001b[0;32m    227\u001b[0m         alert_text \u001b[39m=\u001b[39m value[\u001b[39m\"\u001b[39m\u001b[39malert\u001b[39m\u001b[39m\"\u001b[39m]\u001b[39m.\u001b[39mget(\u001b[39m\"\u001b[39m\u001b[39mtext\u001b[39m\u001b[39m\"\u001b[39m)\n\u001b[0;32m    228\u001b[0m     \u001b[39mraise\u001b[39;00m exception_class(message, screen, stacktrace, alert_text)  \u001b[39m# type: ignore[call-arg]  # mypy is not smart enough here\u001b[39;00m\n\u001b[1;32m--> 229\u001b[0m \u001b[39mraise\u001b[39;00m exception_class(message, screen, stacktrace)\n",
      "\u001b[1;31mStaleElementReferenceException\u001b[0m: Message: stale element reference: stale element not found\n  (Session info: chrome=116.0.5845.142); For documentation on this error, please visit: https://www.selenium.dev/documentation/webdriver/troubleshooting/errors#stale-element-reference-exception\nStacktrace:\n\tGetHandleVerifier [0x008E37C3+48947]\n\t(No symbol) [0x00878551]\n\t(No symbol) [0x0077C92D]\n\t(No symbol) [0x0077FD62]\n\t(No symbol) [0x00781292]\n\t(No symbol) [0x007D7DFB]\n\t(No symbol) [0x007C508C]\n\t(No symbol) [0x007D75DA]\n\t(No symbol) [0x007C4E86]\n\t(No symbol) [0x007A16C7]\n\t(No symbol) [0x007A284D]\n\tGetHandleVerifier [0x00B2FDF9+2458985]\n\tGetHandleVerifier [0x00B7744F+2751423]\n\tGetHandleVerifier [0x00B71361+2726609]\n\tGetHandleVerifier [0x00960680+560624]\n\t(No symbol) [0x0088238C]\n\t(No symbol) [0x0087E268]\n\t(No symbol) [0x0087E392]\n\t(No symbol) [0x008710B7]\n\tBaseThreadInitThunk [0x762F7D59+25]\n\tRtlInitializeExceptionChain [0x77AFB79B+107]\n\tRtlClearBits [0x77AFB71F+191]\n"
     ]
    }
   ],
   "source": [
    "for matchid, link in zip(match_ids, links):\n",
    "    if matchid == link.get_attribute('href').split('/')[4]:\n",
    "        link.click()\n",
    "        change_layout = wait.until(EC.presence_of_element_located((By.XPATH,'//button[@class=\"hitagi__sc-veaeuk-0 hitagi__sc-t22b45-0 bkzJpl cIxbnM hitagi__sc-19ns3kr-0 lTrRZ\"][@data-selected=\"false\"]')))\n",
    "        actions.move_to_element(change_layout).click().perform()\n",
    "\n",
    "        html_code = driver.page_source\n",
    "        with open(html_txt_file, 'w', encoding='utf-8') as txt_file:\n",
    "            txt_file.write(html_code, )\n",
    "    \n",
    "        %run dota2_individual_match.ipynb\n",
    "\n",
    "        driver.back()\n",
    "        time.sleep(3)\n",
    "        loop = loop + 1\n",
    "        print(\"loop = \", loop)"
   ]
  },
  {
   "cell_type": "markdown",
   "metadata": {},
   "source": [
    "  with open(execute_path, 'r', encoding='utf-8') as read_execute_file:\n",
    "        execute_file_content = read_execute_file.read()\n",
    "\n",
    "    execute_file = nbformat.reads(execute_file_content, as_version=4)\n",
    "    execute_notebook(execute_file, kernel_name='python3')"
   ]
  },
  {
   "cell_type": "markdown",
   "metadata": {},
   "source": []
  }
 ],
 "metadata": {
  "kernelspec": {
   "display_name": "Python 3",
   "language": "python",
   "name": "python3"
  },
  "language_info": {
   "codemirror_mode": {
    "name": "ipython",
    "version": 3
   },
   "file_extension": ".py",
   "mimetype": "text/x-python",
   "name": "python",
   "nbconvert_exporter": "python",
   "pygments_lexer": "ipython3",
   "version": "3.11.4"
  },
  "orig_nbformat": 4
 },
 "nbformat": 4,
 "nbformat_minor": 2
}
