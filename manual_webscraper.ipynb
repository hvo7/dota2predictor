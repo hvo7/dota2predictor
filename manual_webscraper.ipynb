{
 "cells": [
  {
   "cell_type": "code",
   "execution_count": 227,
   "metadata": {},
   "outputs": [],
   "source": [
    "import time\n",
    "import re\n",
    "import pandas as pd\n",
    "import numpy as np"
   ]
  },
  {
   "cell_type": "code",
   "execution_count": 228,
   "metadata": {},
   "outputs": [],
   "source": [
    "from bs4 import BeautifulSoup\n",
    "\n",
    "# Load the html content from the txt file\n",
    "file_path = r\"C:\\Users\\henry\\OneDrive - Louisiana State University\\Desktop\\Dota2Predictor\\txt files\\manual_webscraper_html.txt\"\n",
    "\n",
    "with open (file_path, 'r', encoding = 'utf-8') as file:\n",
    "    file_content = file.read()\n",
    "\n",
    "soup = BeautifulSoup(file_content, 'html.parser')\n"
   ]
  },
  {
   "cell_type": "code",
   "execution_count": 230,
   "metadata": {},
   "outputs": [],
   "source": [
    "# Load previous data from csv file\n",
    "df = pd.read_csv(r\"C:\\Users\\henry\\OneDrive - Louisiana State University\\Desktop\\Dota2Predictor\\dota.csv\")"
   ]
  },
  {
   "cell_type": "code",
   "execution_count": 231,
   "metadata": {},
   "outputs": [
    {
     "name": "stdout",
     "output_type": "stream",
     "text": [
      "      MatchID        Date          Hero Match Duration      Result  Kills  \\\n",
      "0  7325788277  2023-09-08        Jakiro          42:19  Lost Match      6   \n",
      "1  7325105873  2023-09-08  Witch Doctor          38:24   Won Match     11   \n",
      "2  7324300278  2023-09-07        Rubick          40:26  Lost Match      5   \n",
      "3  7298711135  2023-08-23        Oracle          50:02   Won Match     10   \n",
      "4  7280229073  2023-08-11  Witch Doctor          42:53   Won Match     11   \n",
      "\n",
      "   Deaths  Assists  Networth     Team      Enemy_pos1  Enemy_pos2 Enemy_pos3  \\\n",
      "0       8       16   15500.0     Dire     drow_ranger       razor    slardar   \n",
      "1       5       15   16200.0  Radiant      gyrocopter      jakiro    slardar   \n",
      "2       8       17   11000.0  Radiant  phantom_lancer  juggernaut  dark_seer   \n",
      "3      10       20       NaN      NaN             NaN         NaN        NaN   \n",
      "4      10       16       NaN      NaN             NaN         NaN        NaN   \n",
      "\n",
      "     Enemy_pos4 Enemy_pos5 Ally_pos1   Ally_pos2       Ally_pos3  \\\n",
      "0        treant    warlock    muerta  lone_druid  spirit_breaker   \n",
      "1        furion     treant      sven     invoker   night_stalker   \n",
      "2  witch_doctor       lion      sven      tinker     bristleback   \n",
      "3           NaN        NaN       NaN         NaN             NaN   \n",
      "4           NaN        NaN       NaN         NaN             NaN   \n",
      "\n",
      "        Ally_pos4  \n",
      "0        silencer  \n",
      "1  vengefulspirit  \n",
      "2    nyx_assassin  \n",
      "3             NaN  \n",
      "4             NaN  \n"
     ]
    }
   ],
   "source": [
    "print(df.head())"
   ]
  },
  {
   "cell_type": "code",
   "execution_count": 232,
   "metadata": {},
   "outputs": [],
   "source": [
    "# Get MatchID from title\n",
    "\n",
    "title_tag = soup.find('title').text\n",
    "\n",
    "matchid = int(title_tag.split(' ')[1])\n"
   ]
  },
  {
   "cell_type": "code",
   "execution_count": 233,
   "metadata": {},
   "outputs": [
    {
     "name": "stdout",
     "output_type": "stream",
     "text": [
      "Index([3], dtype='int64')\n"
     ]
    }
   ],
   "source": [
    "# Determine which row to add match information\n",
    "\n",
    "row_index = df.loc[df['MatchID'] == matchid].index         # Take the index of the row with the correct matchid\n",
    "print(row_index)"
   ]
  },
  {
   "cell_type": "code",
   "execution_count": 234,
   "metadata": {},
   "outputs": [],
   "source": [
    "my_hero = df.loc[row_index,'Hero']\n",
    "my_hero = my_hero.iloc[0].lower().replace(' ','_')"
   ]
  },
  {
   "cell_type": "code",
   "execution_count": 235,
   "metadata": {},
   "outputs": [],
   "source": [
    "all_hero_tags = soup.find_all('img', class_ = 'sc-1e1uy26-0 VSxZd')\n",
    "\n",
    "radiant_team_tags = all_hero_tags[:5]\n",
    "dire_team_tags = all_hero_tags[5:10]"
   ]
  },
  {
   "cell_type": "code",
   "execution_count": 236,
   "metadata": {},
   "outputs": [],
   "source": [
    "radiant_team = []\n",
    "dire_team = []\n",
    "\n",
    "#Extract hero name from the image tag and append to enemey_heroes \n",
    "for i in radiant_team_tags:\n",
    "     hero = i['src'].split('/')[6].replace('_horz.png','')\n",
    "     radiant_team.append(hero)    \n",
    "\n",
    "for i in dire_team_tags:\n",
    "     hero = i['src'].split('/')[6].replace('_horz.png','')\n",
    "     dire_team.append(hero)                           \n",
    "\n"
   ]
  },
  {
   "cell_type": "code",
   "execution_count": 237,
   "metadata": {},
   "outputs": [
    {
     "name": "stdout",
     "output_type": "stream",
     "text": [
      "['gyrocopter', 'nevermore', 'chaos_knight', 'venomancer', 'phoenix']\n",
      "['juggernaut', 'kunkka', 'shredder', 'shadow_shaman', 'oracle']\n"
     ]
    }
   ],
   "source": [
    "print((radiant_team))\n",
    "print((dire_team))"
   ]
  },
  {
   "cell_type": "code",
   "execution_count": 238,
   "metadata": {},
   "outputs": [
    {
     "name": "stdout",
     "output_type": "stream",
     "text": [
      "oracle\n"
     ]
    }
   ],
   "source": [
    "print(my_hero)"
   ]
  },
  {
   "cell_type": "code",
   "execution_count": 239,
   "metadata": {},
   "outputs": [
    {
     "data": {
      "text/plain": [
       "False"
      ]
     },
     "execution_count": 239,
     "metadata": {},
     "output_type": "execute_result"
    }
   ],
   "source": [
    "str(my_hero) in radiant_team"
   ]
  },
  {
   "cell_type": "code",
   "execution_count": 240,
   "metadata": {},
   "outputs": [],
   "source": [
    "if str(my_hero) in radiant_team:\n",
    "    team = 'Radiant'\n",
    "    df.loc[row_index, 'Team'] = team\n",
    "    enemy_heroes = dire_team\n",
    "    ally_heroes = radiant_team\n",
    "else:\n",
    "    team = 'Dire'\n",
    "    df.loc[row_index, 'Team'] = team\n",
    "    enemy_heroes = radiant_team\n",
    "    ally_heroes = dire_team\n",
    "    "
   ]
  },
  {
   "cell_type": "code",
   "execution_count": 241,
   "metadata": {},
   "outputs": [
    {
     "name": "stdout",
     "output_type": "stream",
     "text": [
      "Dire\n"
     ]
    }
   ],
   "source": [
    "print(team)"
   ]
  },
  {
   "cell_type": "code",
   "execution_count": 242,
   "metadata": {},
   "outputs": [],
   "source": [
    "position_number = 1\n",
    "for enemy_hero, ally_hero in zip(enemy_heroes,ally_heroes) :\n",
    "    df.loc[row_index,'Enemy_pos' + str(position_number)] = enemy_hero\n",
    "    if position_number != 5:\n",
    "        df.loc[row_index,'Ally_pos' + str(position_number)] = ally_hero\n",
    "    position_number += 1\n"
   ]
  },
  {
   "cell_type": "code",
   "execution_count": 243,
   "metadata": {},
   "outputs": [
    {
     "name": "stderr",
     "output_type": "stream",
     "text": [
      "C:\\Users\\henry\\AppData\\Local\\Temp\\ipykernel_31020\\383244598.py:2: DeprecationWarning: The 'text' argument to find()-type methods is deprecated. Use 'string' instead.\n",
      "  user_tag = soup.find('span', text = 'MambaMama')\n"
     ]
    }
   ],
   "source": [
    "# Find my user_name tag\n",
    "user_tag = soup.find('span', text = 'MambaMama')"
   ]
  },
  {
   "cell_type": "code",
   "execution_count": 244,
   "metadata": {},
   "outputs": [],
   "source": [
    "# Extract networth from tag after my user_name then convert 'k' to multiply by 1000\n",
    "networth = user_tag.find_next('div', class_ = 'hitagi__sc-1ah81hi-0 jhafUR').text.replace('k', '')\n",
    "networth = float(networth) * 1000\n"
   ]
  },
  {
   "cell_type": "code",
   "execution_count": 245,
   "metadata": {},
   "outputs": [],
   "source": [
    "# Add networth to row\n",
    "df.loc[row_index,'Networth'] = networth"
   ]
  },
  {
   "cell_type": "code",
   "execution_count": 246,
   "metadata": {},
   "outputs": [
    {
     "data": {
      "text/html": [
       "<div>\n",
       "<style scoped>\n",
       "    .dataframe tbody tr th:only-of-type {\n",
       "        vertical-align: middle;\n",
       "    }\n",
       "\n",
       "    .dataframe tbody tr th {\n",
       "        vertical-align: top;\n",
       "    }\n",
       "\n",
       "    .dataframe thead th {\n",
       "        text-align: right;\n",
       "    }\n",
       "</style>\n",
       "<table border=\"1\" class=\"dataframe\">\n",
       "  <thead>\n",
       "    <tr style=\"text-align: right;\">\n",
       "      <th></th>\n",
       "      <th>MatchID</th>\n",
       "      <th>Date</th>\n",
       "      <th>Hero</th>\n",
       "      <th>Match Duration</th>\n",
       "      <th>Result</th>\n",
       "      <th>Kills</th>\n",
       "      <th>Deaths</th>\n",
       "      <th>Assists</th>\n",
       "      <th>Networth</th>\n",
       "      <th>Team</th>\n",
       "      <th>Enemy_pos1</th>\n",
       "      <th>Enemy_pos2</th>\n",
       "      <th>Enemy_pos3</th>\n",
       "      <th>Enemy_pos4</th>\n",
       "      <th>Enemy_pos5</th>\n",
       "      <th>Ally_pos1</th>\n",
       "      <th>Ally_pos2</th>\n",
       "      <th>Ally_pos3</th>\n",
       "      <th>Ally_pos4</th>\n",
       "    </tr>\n",
       "  </thead>\n",
       "  <tbody>\n",
       "    <tr>\n",
       "      <th>0</th>\n",
       "      <td>7325788277</td>\n",
       "      <td>2023-09-08</td>\n",
       "      <td>Jakiro</td>\n",
       "      <td>42:19</td>\n",
       "      <td>Lost Match</td>\n",
       "      <td>6</td>\n",
       "      <td>8</td>\n",
       "      <td>16</td>\n",
       "      <td>15500.0</td>\n",
       "      <td>Dire</td>\n",
       "      <td>drow_ranger</td>\n",
       "      <td>razor</td>\n",
       "      <td>slardar</td>\n",
       "      <td>treant</td>\n",
       "      <td>warlock</td>\n",
       "      <td>muerta</td>\n",
       "      <td>lone_druid</td>\n",
       "      <td>spirit_breaker</td>\n",
       "      <td>silencer</td>\n",
       "    </tr>\n",
       "    <tr>\n",
       "      <th>1</th>\n",
       "      <td>7325105873</td>\n",
       "      <td>2023-09-08</td>\n",
       "      <td>Witch Doctor</td>\n",
       "      <td>38:24</td>\n",
       "      <td>Won Match</td>\n",
       "      <td>11</td>\n",
       "      <td>5</td>\n",
       "      <td>15</td>\n",
       "      <td>16200.0</td>\n",
       "      <td>Radiant</td>\n",
       "      <td>gyrocopter</td>\n",
       "      <td>jakiro</td>\n",
       "      <td>slardar</td>\n",
       "      <td>furion</td>\n",
       "      <td>treant</td>\n",
       "      <td>sven</td>\n",
       "      <td>invoker</td>\n",
       "      <td>night_stalker</td>\n",
       "      <td>vengefulspirit</td>\n",
       "    </tr>\n",
       "    <tr>\n",
       "      <th>2</th>\n",
       "      <td>7324300278</td>\n",
       "      <td>2023-09-07</td>\n",
       "      <td>Rubick</td>\n",
       "      <td>40:26</td>\n",
       "      <td>Lost Match</td>\n",
       "      <td>5</td>\n",
       "      <td>8</td>\n",
       "      <td>17</td>\n",
       "      <td>11000.0</td>\n",
       "      <td>Radiant</td>\n",
       "      <td>phantom_lancer</td>\n",
       "      <td>juggernaut</td>\n",
       "      <td>dark_seer</td>\n",
       "      <td>witch_doctor</td>\n",
       "      <td>lion</td>\n",
       "      <td>sven</td>\n",
       "      <td>tinker</td>\n",
       "      <td>bristleback</td>\n",
       "      <td>nyx_assassin</td>\n",
       "    </tr>\n",
       "    <tr>\n",
       "      <th>3</th>\n",
       "      <td>7298711135</td>\n",
       "      <td>2023-08-23</td>\n",
       "      <td>Oracle</td>\n",
       "      <td>50:02</td>\n",
       "      <td>Won Match</td>\n",
       "      <td>10</td>\n",
       "      <td>10</td>\n",
       "      <td>20</td>\n",
       "      <td>17600.0</td>\n",
       "      <td>Dire</td>\n",
       "      <td>gyrocopter</td>\n",
       "      <td>nevermore</td>\n",
       "      <td>chaos_knight</td>\n",
       "      <td>venomancer</td>\n",
       "      <td>phoenix</td>\n",
       "      <td>juggernaut</td>\n",
       "      <td>kunkka</td>\n",
       "      <td>shredder</td>\n",
       "      <td>shadow_shaman</td>\n",
       "    </tr>\n",
       "    <tr>\n",
       "      <th>4</th>\n",
       "      <td>7280229073</td>\n",
       "      <td>2023-08-11</td>\n",
       "      <td>Witch Doctor</td>\n",
       "      <td>42:53</td>\n",
       "      <td>Won Match</td>\n",
       "      <td>11</td>\n",
       "      <td>10</td>\n",
       "      <td>16</td>\n",
       "      <td>NaN</td>\n",
       "      <td>NaN</td>\n",
       "      <td>NaN</td>\n",
       "      <td>NaN</td>\n",
       "      <td>NaN</td>\n",
       "      <td>NaN</td>\n",
       "      <td>NaN</td>\n",
       "      <td>NaN</td>\n",
       "      <td>NaN</td>\n",
       "      <td>NaN</td>\n",
       "      <td>NaN</td>\n",
       "    </tr>\n",
       "  </tbody>\n",
       "</table>\n",
       "</div>"
      ],
      "text/plain": [
       "      MatchID        Date          Hero Match Duration      Result  Kills  \\\n",
       "0  7325788277  2023-09-08        Jakiro          42:19  Lost Match      6   \n",
       "1  7325105873  2023-09-08  Witch Doctor          38:24   Won Match     11   \n",
       "2  7324300278  2023-09-07        Rubick          40:26  Lost Match      5   \n",
       "3  7298711135  2023-08-23        Oracle          50:02   Won Match     10   \n",
       "4  7280229073  2023-08-11  Witch Doctor          42:53   Won Match     11   \n",
       "\n",
       "   Deaths  Assists  Networth     Team      Enemy_pos1  Enemy_pos2  \\\n",
       "0       8       16   15500.0     Dire     drow_ranger       razor   \n",
       "1       5       15   16200.0  Radiant      gyrocopter      jakiro   \n",
       "2       8       17   11000.0  Radiant  phantom_lancer  juggernaut   \n",
       "3      10       20   17600.0     Dire      gyrocopter   nevermore   \n",
       "4      10       16       NaN      NaN             NaN         NaN   \n",
       "\n",
       "     Enemy_pos3    Enemy_pos4 Enemy_pos5   Ally_pos1   Ally_pos2  \\\n",
       "0       slardar        treant    warlock      muerta  lone_druid   \n",
       "1       slardar        furion     treant        sven     invoker   \n",
       "2     dark_seer  witch_doctor       lion        sven      tinker   \n",
       "3  chaos_knight    venomancer    phoenix  juggernaut      kunkka   \n",
       "4           NaN           NaN        NaN         NaN         NaN   \n",
       "\n",
       "        Ally_pos3       Ally_pos4  \n",
       "0  spirit_breaker        silencer  \n",
       "1   night_stalker  vengefulspirit  \n",
       "2     bristleback    nyx_assassin  \n",
       "3        shredder   shadow_shaman  \n",
       "4             NaN             NaN  "
      ]
     },
     "execution_count": 246,
     "metadata": {},
     "output_type": "execute_result"
    }
   ],
   "source": [
    "df.head()"
   ]
  },
  {
   "cell_type": "code",
   "execution_count": 247,
   "metadata": {},
   "outputs": [],
   "source": [
    "csv_dota2 = 'dota.csv'\n",
    "df.to_csv(csv_dota2, index=False)"
   ]
  }
 ],
 "metadata": {
  "kernelspec": {
   "display_name": "Python 3",
   "language": "python",
   "name": "python3"
  },
  "language_info": {
   "codemirror_mode": {
    "name": "ipython",
    "version": 3
   },
   "file_extension": ".py",
   "mimetype": "text/x-python",
   "name": "python",
   "nbconvert_exporter": "python",
   "pygments_lexer": "ipython3",
   "version": "3.11.4"
  },
  "orig_nbformat": 4
 },
 "nbformat": 4,
 "nbformat_minor": 2
}
