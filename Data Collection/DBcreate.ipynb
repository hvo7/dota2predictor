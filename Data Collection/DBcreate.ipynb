{
 "cells": [
  {
   "cell_type": "markdown",
   "metadata": {},
   "source": [
    "#### How to use APIs"
   ]
  },
  {
   "cell_type": "code",
   "execution_count": 1,
   "metadata": {},
   "outputs": [],
   "source": [
    "import requests\n",
    "import json\n",
    "import numpy as np"
   ]
  },
  {
   "cell_type": "code",
   "execution_count": 2,
   "metadata": {},
   "outputs": [],
   "source": [
    "ACCOUNT_ID = \"122262109\""
   ]
  },
  {
   "cell_type": "markdown",
   "metadata": {},
   "source": [
    "## Retrieve the heroes for both teams, including the hero I am playing"
   ]
  },
  {
   "cell_type": "markdown",
   "metadata": {
    "vscode": {
     "languageId": "bat"
    }
   },
   "source": [
    "# Create a response object for the content of the webpage\n",
    "# API Key: 11d4a6d0-ef58-484c-ad2c-31f7816c1eeb\n",
    "# Use API key by adding api_key = ____ as a query parameter to request\n",
    "\n",
    "# Make the API Call to receive all RANKED matches that my account has played in \n",
    "response = requests.get(\"https://api.opendota.com/api/players/\" + ACCOUNT_ID + \"/matches\")\n",
    "\n",
    "print(response.status_code)"
   ]
  },
  {
   "cell_type": "markdown",
   "metadata": {},
   "source": [
    "matchids = []                                # Create an empty array to store all of my matchids\n",
    "\n",
    "\n",
    "# Loop through each match from the response\n",
    "for i in range(len(response.json())):\n",
    "    matchid = response.json()[i]['match_id'] # Extract the match id using the match_id key\n",
    "    matchids.append(matchid)                 # Append the matchid to the matchids array\n",
    "\n"
   ]
  },
  {
   "cell_type": "markdown",
   "metadata": {},
   "source": [
    "### Go through each matchid and retrieve the data for the heroes"
   ]
  },
  {
   "cell_type": "markdown",
   "metadata": {},
   "source": [
    "match_id = '7770425147'\n",
    "\n",
    "url = f\"https://api.opendota.com/api/matches/{match_id}\""
   ]
  },
  {
   "cell_type": "code",
   "execution_count": 3,
   "metadata": {},
   "outputs": [],
   "source": [
    "url = \"https://api.opendota.com/api/publicMatches?min_rank=60\" # Set URL with a minimum rank of \"Legend (rank=60)\""
   ]
  },
  {
   "cell_type": "code",
   "execution_count": 4,
   "metadata": {},
   "outputs": [],
   "source": [
    "response = requests.get(url) # Call API"
   ]
  },
  {
   "cell_type": "code",
   "execution_count": 5,
   "metadata": {},
   "outputs": [
    {
     "data": {
      "text/plain": [
       "200"
      ]
     },
     "execution_count": 5,
     "metadata": {},
     "output_type": "execute_result"
    }
   ],
   "source": [
    "response.status_code # Get status code to ensure secure connection"
   ]
  },
  {
   "cell_type": "code",
   "execution_count": 6,
   "metadata": {},
   "outputs": [],
   "source": [
    "match_data = response.json() # Set the API call contents to match_data"
   ]
  },
  {
   "cell_type": "code",
   "execution_count": 7,
   "metadata": {},
   "outputs": [],
   "source": [
    "match_id = match_data[1]['match_id'] # Set the match id"
   ]
  },
  {
   "cell_type": "code",
   "execution_count": 8,
   "metadata": {},
   "outputs": [
    {
     "data": {
      "text/plain": [
       "7852913506"
      ]
     },
     "execution_count": 8,
     "metadata": {},
     "output_type": "execute_result"
    }
   ],
   "source": [
    "match_id"
   ]
  },
  {
   "cell_type": "code",
   "execution_count": 37,
   "metadata": {},
   "outputs": [],
   "source": [
    "radiant_team = np.array(match_data[1]['radiant_team']).astype('str') # Extract radiant team from the match data, represented as an str array of hero_ids\n",
    "dire_team = np.array(match_data[1]['dire_team']).astype('str')    # Extract dire team"
   ]
  },
  {
   "cell_type": "code",
   "execution_count": 38,
   "metadata": {},
   "outputs": [
    {
     "data": {
      "text/plain": [
       "array(['102', '69', '86', '54', '39'], dtype='<U11')"
      ]
     },
     "execution_count": 38,
     "metadata": {},
     "output_type": "execute_result"
    }
   ],
   "source": [
    "radiant_team"
   ]
  },
  {
   "cell_type": "code",
   "execution_count": 39,
   "metadata": {},
   "outputs": [
    {
     "data": {
      "text/plain": [
       "array(['21', '14', '94', '96', '64'], dtype='<U11')"
      ]
     },
     "execution_count": 39,
     "metadata": {},
     "output_type": "execute_result"
    }
   ],
   "source": [
    "dire_team"
   ]
  },
  {
   "cell_type": "code",
   "execution_count": 40,
   "metadata": {},
   "outputs": [],
   "source": [
    "# Open the dotaconstants.txt file to extract information of heroes\n",
    "\n",
    "with open (\"dotaconstants.txt\", 'r') as f_hero_info:\n",
    "    hero_info = f_hero_info.read()\n",
    "\n",
    "# Convert hero_info into a json\n",
    "\n",
    "\n",
    "hero_info = json.loads(hero_info)"
   ]
  },
  {
   "cell_type": "code",
   "execution_count": 41,
   "metadata": {},
   "outputs": [],
   "source": [
    "# Loop through each hero_id, as strings in the radiant_team dictionary and print the name of each hero associated\n",
    "\n",
    "temp = []                                                           # Initialize a temp array as placeholder for hero names\n",
    "\n",
    "for hero_id in radiant_team:\n",
    "    hero = hero_info[hero_id]['name'][14:]  # Set hero name by using hero_id as key in hero_info.  Then further index by  'name'\n",
    "    temp.append(hero)\n",
    "\n",
    "    if len(temp) == 5:\n",
    "        np.delete(radiant_team,[])                                        # Empty the radiant array\n",
    "        radiant_team = temp.copy()                                  # Copy the heroes from the temp array to radiant_hero\n",
    "        temp = []                                                   # Empty the temp array\n",
    "\n"
   ]
  },
  {
   "cell_type": "code",
   "execution_count": 44,
   "metadata": {},
   "outputs": [
    {
     "data": {
      "text/plain": [
       "['abaddon', 'doom_bringer', 'rubick', 'life_stealer', 'queenofpain']"
      ]
     },
     "execution_count": 44,
     "metadata": {},
     "output_type": "execute_result"
    }
   ],
   "source": [
    "radiant_team"
   ]
  },
  {
   "cell_type": "code",
   "execution_count": 42,
   "metadata": {},
   "outputs": [],
   "source": [
    "# Do same as radiant team but for dire\n",
    "for hero_id in dire_team:\n",
    "    hero = hero_info[hero_id]['name'][14:]             # Set hero name by using hero_id as key in hero_info.  Then further index by  'name'\n",
    "    temp.append(hero)\n",
    "\n",
    "    if len(temp) == 5:\n",
    "        np.delete(dire_team,[])                                                 # Empty the dire array\n",
    "        dire_team = temp.copy()                                           # Copy the heroes from the temp array to dire_hero\n",
    "        temp = []                                                         # Empty the temp array"
   ]
  },
  {
   "cell_type": "code",
   "execution_count": 43,
   "metadata": {},
   "outputs": [
    {
     "data": {
      "text/plain": [
       "['windrunner', 'pudge', 'medusa', 'centaur', 'jakiro']"
      ]
     },
     "execution_count": 43,
     "metadata": {},
     "output_type": "execute_result"
    }
   ],
   "source": [
    "dire_team"
   ]
  },
  {
   "cell_type": "code",
   "execution_count": null,
   "metadata": {},
   "outputs": [],
   "source": []
  }
 ],
 "metadata": {
  "kernelspec": {
   "display_name": "Python 3",
   "language": "python",
   "name": "python3"
  },
  "language_info": {
   "codemirror_mode": {
    "name": "ipython",
    "version": 3
   },
   "file_extension": ".py",
   "mimetype": "text/x-python",
   "name": "python",
   "nbconvert_exporter": "python",
   "pygments_lexer": "ipython3",
   "version": "3.12.0"
  }
 },
 "nbformat": 4,
 "nbformat_minor": 2
}
