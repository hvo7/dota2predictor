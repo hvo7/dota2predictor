{
 "cells": [
  {
   "cell_type": "markdown",
   "metadata": {},
   "source": [
    "#### How to use APIs"
   ]
  },
  {
   "cell_type": "code",
   "execution_count": 1,
   "metadata": {},
   "outputs": [],
   "source": [
    "import requests\n",
    "import json\n",
    "import numpy as np"
   ]
  },
  {
   "cell_type": "code",
   "execution_count": 2,
   "metadata": {},
   "outputs": [],
   "source": [
    "ACCOUNT_ID = \"122262109\""
   ]
  },
  {
   "cell_type": "markdown",
   "metadata": {},
   "source": [
    "## Retrieve the heroes for both teams, including the hero I am playing"
   ]
  },
  {
   "cell_type": "markdown",
   "metadata": {
    "vscode": {
     "languageId": "bat"
    }
   },
   "source": [
    "# Create a response object for the content of the webpage\n",
    "# API Key: 11d4a6d0-ef58-484c-ad2c-31f7816c1eeb\n",
    "# Use API key by adding api_key = ____ as a query parameter to request\n",
    "\n",
    "# Make the API Call to receive all RANKED matches that my account has played in \n",
    "response = requests.get(\"https://api.opendota.com/api/players/\" + ACCOUNT_ID + \"/matches\")\n",
    "\n",
    "print(response.status_code)"
   ]
  },
  {
   "cell_type": "markdown",
   "metadata": {},
   "source": [
    "matchids = []                                # Create an empty array to store all of my matchids\n",
    "\n",
    "\n",
    "# Loop through each match from the response\n",
    "for i in range(len(response.json())):\n",
    "    matchid = response.json()[i]['match_id'] # Extract the match id using the match_id key\n",
    "    matchids.append(matchid)                 # Append the matchid to the matchids array\n",
    "\n"
   ]
  },
  {
   "cell_type": "markdown",
   "metadata": {},
   "source": [
    "### Go through each matchid and retrieve the data for the heroes"
   ]
  },
  {
   "cell_type": "markdown",
   "metadata": {},
   "source": [
    "match_id = '7770425147'\n",
    "\n",
    "url = f\"https://api.opendota.com/api/matches/{match_id}\""
   ]
  },
  {
   "cell_type": "code",
   "execution_count": 3,
   "metadata": {},
   "outputs": [],
   "source": [
    "url = \"https://api.opendota.com/api/publicMatches?min_rank=60\" # Set URL with a minimum rank of \"Legend (rank=60)\""
   ]
  },
  {
   "cell_type": "code",
   "execution_count": 4,
   "metadata": {},
   "outputs": [],
   "source": [
    "response = requests.get(url) # Call API"
   ]
  },
  {
   "cell_type": "code",
   "execution_count": 5,
   "metadata": {},
   "outputs": [
    {
     "data": {
      "text/plain": [
       "200"
      ]
     },
     "execution_count": 5,
     "metadata": {},
     "output_type": "execute_result"
    }
   ],
   "source": [
    "response.status_code # Get status code to ensure secure connection"
   ]
  },
  {
   "cell_type": "code",
   "execution_count": 6,
   "metadata": {},
   "outputs": [],
   "source": [
    "match_data = response.json() # Set the API call contents to match_data"
   ]
  },
  {
   "cell_type": "code",
   "execution_count": 29,
   "metadata": {},
   "outputs": [
    {
     "data": {
      "text/plain": [
       "7846878900"
      ]
     },
     "execution_count": 29,
     "metadata": {},
     "output_type": "execute_result"
    }
   ],
   "source": [
    "match_id = match_data[1]['match_id'] # Set the match id"
   ]
  },
  {
   "cell_type": "code",
   "execution_count": 24,
   "metadata": {},
   "outputs": [],
   "source": [
    "radiant_team = np.array(match_data[1]['radiant_team']).astype('str') # Extract radiant team from the match data, represented as an str array of hero_ids"
   ]
  },
  {
   "cell_type": "code",
   "execution_count": 10,
   "metadata": {},
   "outputs": [],
   "source": [
    "# Open the dotaconstants.txt file to extract information of heroes\n",
    "\n",
    "with open (\"dotaconstants.txt\", 'r') as f_hero_info:\n",
    "    hero_info = f_hero_info.read()\n",
    "\n",
    "# Convert hero_info into a json\n",
    "\n",
    "hero_info = json.loads(hero_info)"
   ]
  },
  {
   "cell_type": "code",
   "execution_count": 30,
   "metadata": {},
   "outputs": [
    {
     "name": "stdout",
     "output_type": "stream",
     "text": [
      "npc_dota_hero_viper\n",
      "npc_dota_hero_ancient_apparition\n",
      "npc_dota_hero_dark_seer\n",
      "npc_dota_hero_troll_warlord\n",
      "npc_dota_hero_earthshaker\n"
     ]
    }
   ],
   "source": [
    "# Loop through each hero_id, as strings in the radiant_team dictionary and print the name of each hero associated\n",
    "\n",
    "for hero_id in radiant_team:\n",
    "    print(hero_info[hero_id]['name'])\n"
   ]
  },
  {
   "cell_type": "code",
   "execution_count": null,
   "metadata": {},
   "outputs": [],
   "source": []
  }
 ],
 "metadata": {
  "kernelspec": {
   "display_name": "Python 3",
   "language": "python",
   "name": "python3"
  },
  "language_info": {
   "codemirror_mode": {
    "name": "ipython",
    "version": 3
   },
   "file_extension": ".py",
   "mimetype": "text/x-python",
   "name": "python",
   "nbconvert_exporter": "python",
   "pygments_lexer": "ipython3",
   "version": "3.12.0"
  }
 },
 "nbformat": 4,
 "nbformat_minor": 2
}
