{
 "cells": [
  {
   "cell_type": "code",
   "execution_count": 26,
   "metadata": {},
   "outputs": [],
   "source": [
    "import pandas as pd\n",
    "from bs4 import BeautifulSoup\n",
    "import re"
   ]
  },
  {
   "cell_type": "code",
   "execution_count": 27,
   "metadata": {},
   "outputs": [],
   "source": [
    "\n",
    "file_path = r\"C:\\Users\\henry\\Downloads\\dota2_individual_match.txt\"\n",
    "\n",
    "with open(file_path, 'r', encoding='utf-8') as file:\n",
    "    file_content = file.read()\n",
    "\n",
    "df = pd.read_csv(r\"C:\\Users\\henry\\OneDrive - Louisiana State University\\Desktop\\Dota2Predictor\\dota.csv\")\n",
    "\n",
    "soup = BeautifulSoup(file_content, 'html.parser')\n"
   ]
  },
  {
   "cell_type": "code",
   "execution_count": 28,
   "metadata": {},
   "outputs": [
    {
     "name": "stdout",
     "output_type": "stream",
     "text": [
      "7280229073\n"
     ]
    }
   ],
   "source": [
    "tag_title = soup.find('title').text # Take the matchID from the title of the page\n",
    "match_id = tag_title.split()[1]\n",
    "\n",
    "print(match_id)"
   ]
  },
  {
   "cell_type": "code",
   "execution_count": 29,
   "metadata": {},
   "outputs": [],
   "source": [
    "img_tags = soup.find_all('img', src=lambda x: x and 'https://cdn.stratz.com/images/dota2/heroes' in x)\n"
   ]
  },
  {
   "cell_type": "code",
   "execution_count": 30,
   "metadata": {},
   "outputs": [
    {
     "name": "stdout",
     "output_type": "stream",
     "text": [
      "['tidehunter_vert.png', 'ursa_icon.png', 'lone_druid_icon.png', 'chaos_knight_icon.png', 'rubick_icon.png']\n"
     ]
    }
   ],
   "source": [
    "hero_names = []\n",
    "\n",
    "for hero_tag in img_tags[:5]:\n",
    "    hero_png = hero_tag['src'].split('/')\n",
    "    hero = hero_png[6].replace(\"_horz.png\",'')\n",
    "    hero_names.append(hero)\n",
    "\n",
    "print(hero_names)"
   ]
  },
  {
   "cell_type": "code",
   "execution_count": 31,
   "metadata": {},
   "outputs": [],
   "source": [
    "match_row_index = df[df['MatchID'] == int(match_id)].index\n",
    "\n",
    "for i in range(min(len(hero_names), 5)):\n",
    "    df.loc[match_row_index, 'Enemy_pos'+ str(i+1)] = hero_names[i]\n",
    "\n",
    "for tag in soup.find_all('a'):\n",
    "    if tag.text == 'MambaMama':\n",
    "        user_name = tag.text\n",
    "        start_tag = tag\n",
    "        break"
   ]
  },
  {
   "cell_type": "code",
   "execution_count": 32,
   "metadata": {},
   "outputs": [
    {
     "data": {
      "text/plain": [
       "Index([1], dtype='int64')"
      ]
     },
     "execution_count": 32,
     "metadata": {},
     "output_type": "execute_result"
    }
   ],
   "source": [
    "df[df['MatchID'] == int(match_id)].index"
   ]
  },
  {
   "cell_type": "code",
   "execution_count": 34,
   "metadata": {},
   "outputs": [
    {
     "name": "stdout",
     "output_type": "stream",
     "text": [
      "[]\n"
     ]
    }
   ],
   "source": [
    "networth_tag = soup.find_all('span', class_ = \"hitagi__sc-6oal1n-0 kQjyLc\")\n",
    "print(networth_tag)\n",
    "networth = networth_tag[9].text\n",
    "print(networth)"
   ]
  },
  {
   "cell_type": "code",
   "execution_count": null,
   "metadata": {},
   "outputs": [],
   "source": [
    "df.loc[match_row_index, \"Networth\"] = networth # Add the networth to the dataframe"
   ]
  },
  {
   "cell_type": "code",
   "execution_count": null,
   "metadata": {},
   "outputs": [
    {
     "name": "stdout",
     "output_type": "stream",
     "text": [
      "0                Enemy_po5\n",
      "Hero          Witch Doctor\n",
      "Result           Won Match\n",
      "MatchID         7280229073\n",
      "Date             8/11/2023\n",
      "Duration          42:53:00\n",
      "Kills                   11\n",
      "Deaths                  10\n",
      "Assists                 16\n",
      "Enemy_pos1             NaN\n",
      "Enemy_pos2             NaN\n",
      "Enemy_pos3             NaN\n",
      "Enemy_pos4             NaN\n",
      "Enemy_pos5             NaN\n",
      "Networth               NaN\n",
      "Name: 1, dtype: object\n"
     ]
    }
   ],
   "source": [
    "print(df.loc[1])"
   ]
  },
  {
   "cell_type": "code",
   "execution_count": null,
   "metadata": {},
   "outputs": [],
   "source": [
    "csv_dota2 = 'dota.csv'\n",
    "df.to_csv(csv_dota2, index=False)"
   ]
  },
  {
   "cell_type": "code",
   "execution_count": null,
   "metadata": {},
   "outputs": [
    {
     "name": "stdout",
     "output_type": "stream",
     "text": [
      "                 0                Hero      Result     MatchID       Date  \\\n",
      "0             Date              Oracle   Won Match  7298711135  8/23/2023   \n",
      "1        Enemy_po5        Witch Doctor   Won Match  7280229073  8/11/2023   \n",
      "2         Networth                Lion   Won Match  7268965457   8/3/2023   \n",
      "3          MatchID              Rubick  Lost Match  7266856262   8/2/2023   \n",
      "4            Kills              Rubick   Won Match  7255758726  7/25/2023   \n",
      "5             Hero       Winter Wyvern  Lost Match  7255725098  7/24/2023   \n",
      "6           Deaths          Venomancer   Won Match  7255673780  7/24/2023   \n",
      "7          Assists              Rubick   Won Match  7250070281  7/20/2023   \n",
      "8           Result             Undying   Won Match  7247689570  7/19/2023   \n",
      "9   Match Duration          Venomancer   Won Match  7247671586  7/19/2023   \n",
      "10      Enemy_pos3              Rubick  Lost Match  7247452281  7/18/2023   \n",
      "11      Enemy_pos1             Undying  Lost Match  7246372234  7/18/2023   \n",
      "12      Enemy_pos2             Undying  Lost Match  7239135242  7/12/2023   \n",
      "13      Enemy_pos4             Undying   Won Match  7239056825  7/12/2023   \n",
      "14             NaN              Rubick  Lost Match  7238973938  7/12/2023   \n",
      "15             NaN              Jakiro  Lost Match  7238908864  7/12/2023   \n",
      "16             NaN             Undying   Won Match  7238202411  7/12/2023   \n",
      "17             NaN              Jakiro   Won Match  7238171114  7/12/2023   \n",
      "18             NaN          Venomancer   Won Match  7238145508  7/12/2023   \n",
      "19             NaN             Techies   Won Match  7238118885  7/12/2023   \n",
      "20             NaN          Venomancer   Won Match  7238092792  7/12/2023   \n",
      "21             NaN          Venomancer  Lost Match  7237960065  7/11/2023   \n",
      "22             NaN              Rubick  Lost Match  7237895477  7/11/2023   \n",
      "23             NaN  Ancient Apparition   Won Match  7232610806   7/8/2023   \n",
      "24             NaN          Venomancer  Lost Match  7231024516   7/6/2023   \n",
      "25             NaN          Venomancer  Lost Match  7228543993   7/5/2023   \n",
      "26             NaN          Venomancer   Won Match  7227384223   7/4/2023   \n",
      "27             NaN          Venomancer   Won Match  7227325085   7/4/2023   \n",
      "28             NaN          Venomancer   Won Match  7227303780   7/4/2023   \n",
      "29             NaN              Rubick  Lost Match  7227251683   7/4/2023   \n",
      "30             NaN          Venomancer   Won Match  7227218819   7/4/2023   \n",
      "31             NaN              Oracle  Lost Match  7227194113   7/3/2023   \n",
      "32             NaN           Disruptor   Won Match  7227166001   7/3/2023   \n",
      "33             NaN              Oracle   Won Match  7227128373   7/3/2023   \n",
      "34             NaN          Venomancer   Won Match  7227088056   7/3/2023   \n",
      "35             NaN             Undying   Won Match  7227044961   7/3/2023   \n",
      "36             NaN              Oracle   Won Match  7227003847   7/3/2023   \n",
      "37             NaN      Crystal Maiden   Won Match  7226078987   7/3/2023   \n",
      "38             NaN          Venomancer   Won Match  7226052094   7/3/2023   \n",
      "39             NaN          Venomancer  Lost Match  7226010839   7/3/2023   \n",
      "40             NaN              Jakiro   Won Match  7225983519   7/3/2023   \n",
      "41             NaN              Rubick  Lost Match  7221245229  6/29/2023   \n",
      "42             NaN             Undying   Won Match  7218834860  6/27/2023   \n",
      "43             NaN             Undying  Lost Match  7217551342  6/27/2023   \n",
      "44             NaN          Venomancer  Lost Match  7216278139  6/26/2023   \n",
      "45             NaN          Venomancer   Won Match  7216256731  6/26/2023   \n",
      "46             NaN             Techies  Lost Match  7216236208  6/26/2023   \n",
      "47             NaN             Techies  Lost Match  7216180843  6/26/2023   \n",
      "48             NaN                Lich  Lost Match  7216105413  6/25/2023   \n",
      "49             NaN             Techies   Won Match  7216075145  6/25/2023   \n",
      "\n",
      "    Duration  Kills  Deaths  Assists  Enemy_pos1 Enemy_pos2    Enemy_pos3  \\\n",
      "0   50:02:00     10      10       20  gyrocopter  nevermore  chaos_knight   \n",
      "1   42:53:00     11      10       16         NaN        NaN           NaN   \n",
      "2   37:55:00      5       6       31         NaN        NaN           NaN   \n",
      "3   47:16:00      8      10       25         NaN        NaN           NaN   \n",
      "4   25:18:00      3       1       14         NaN        NaN           NaN   \n",
      "5   42:54:00      3       8       17         NaN        NaN           NaN   \n",
      "6   52:50:00      7       9       22         NaN        NaN           NaN   \n",
      "7   38:43:00      3       6       25         NaN        NaN           NaN   \n",
      "8   27:00:00      5       3       11         NaN        NaN           NaN   \n",
      "9   28:15:00      6       4       29         NaN        NaN           NaN   \n",
      "10  44:21:00      6       6       22         NaN        NaN           NaN   \n",
      "11   1:04:49      6       6       24         NaN        NaN           NaN   \n",
      "12  33:24:00      3       9        8         NaN        NaN           NaN   \n",
      "13  35:35:00     15       4       26         NaN        NaN           NaN   \n",
      "14  33:44:00      7       9        8         NaN        NaN           NaN   \n",
      "15  33:21:00      1      11        8         NaN        NaN           NaN   \n",
      "16  44:44:00      8       9       32         NaN        NaN           NaN   \n",
      "17  46:59:00     12       6       12         NaN        NaN           NaN   \n",
      "18  41:47:00      5       5       23         NaN        NaN           NaN   \n",
      "19  47:24:00      6       3       21         NaN        NaN           NaN   \n",
      "20  45:24:00      2       8       31         NaN        NaN           NaN   \n",
      "21  54:52:00      5      14       39         NaN        NaN           NaN   \n",
      "22  44:25:00      3      13       11         NaN        NaN           NaN   \n",
      "23  43:30:00      6       6       31         NaN        NaN           NaN   \n",
      "24  39:21:00      4       9       18         NaN        NaN           NaN   \n",
      "25  55:05:00      1      13       23         NaN        NaN           NaN   \n",
      "26  46:25:00      6      10       44         NaN        NaN           NaN   \n",
      "27  31:31:00      9       4       27         NaN        NaN           NaN   \n",
      "28  32:28:00      5       7       25         NaN        NaN           NaN   \n",
      "29  45:23:00      1      10       12         NaN        NaN           NaN   \n",
      "30  28:39:00      6       2       21         NaN        NaN           NaN   \n",
      "31  37:26:00      3      10       12         NaN        NaN           NaN   \n",
      "32  33:27:00      1       2       27         NaN        NaN           NaN   \n",
      "33  36:05:00     12       4       22         NaN        NaN           NaN   \n",
      "34  39:56:00      7       5       26         NaN        NaN           NaN   \n",
      "35  35:26:00      7       4       24         NaN        NaN           NaN   \n",
      "36  29:20:00     14       0       16         NaN        NaN           NaN   \n",
      "37  32:50:00      3       5       28         NaN        NaN           NaN   \n",
      "38  31:56:00      8       5       34         NaN        NaN           NaN   \n",
      "39   1:09:07      6      14       40         NaN        NaN           NaN   \n",
      "40  42:21:00      9       8       25         NaN        NaN           NaN   \n",
      "41  43:38:00      0       9       14         NaN        NaN           NaN   \n",
      "42  25:55:00      6       1       18         NaN        NaN           NaN   \n",
      "43  44:11:00      7      10       28         NaN        NaN           NaN   \n",
      "44  48:43:00     13       6       20         NaN        NaN           NaN   \n",
      "45  30:23:00      4       2       24         NaN        NaN           NaN   \n",
      "46  30:10:00      2       8        6         NaN        NaN           NaN   \n",
      "47  36:38:00      3       7        7         NaN        NaN           NaN   \n",
      "48  49:52:00      5      11       15         NaN        NaN           NaN   \n",
      "49  41:38:00      4       8       23         NaN        NaN           NaN   \n",
      "\n",
      "    Enemy_pos4 Enemy_pos5 Networth  \n",
      "0   venomancer    phoenix   17,576  \n",
      "1          NaN        NaN      NaN  \n",
      "2          NaN        NaN      NaN  \n",
      "3          NaN        NaN      NaN  \n",
      "4          NaN        NaN      NaN  \n",
      "5          NaN        NaN      NaN  \n",
      "6          NaN        NaN      NaN  \n",
      "7          NaN        NaN      NaN  \n",
      "8          NaN        NaN      NaN  \n",
      "9          NaN        NaN      NaN  \n",
      "10         NaN        NaN      NaN  \n",
      "11         NaN        NaN      NaN  \n",
      "12         NaN        NaN      NaN  \n",
      "13         NaN        NaN      NaN  \n",
      "14         NaN        NaN      NaN  \n",
      "15         NaN        NaN      NaN  \n",
      "16         NaN        NaN      NaN  \n",
      "17         NaN        NaN      NaN  \n",
      "18         NaN        NaN      NaN  \n",
      "19         NaN        NaN      NaN  \n",
      "20         NaN        NaN      NaN  \n",
      "21         NaN        NaN      NaN  \n",
      "22         NaN        NaN      NaN  \n",
      "23         NaN        NaN      NaN  \n",
      "24         NaN        NaN      NaN  \n",
      "25         NaN        NaN      NaN  \n",
      "26         NaN        NaN      NaN  \n",
      "27         NaN        NaN      NaN  \n",
      "28         NaN        NaN      NaN  \n",
      "29         NaN        NaN      NaN  \n",
      "30         NaN        NaN      NaN  \n",
      "31         NaN        NaN      NaN  \n",
      "32         NaN        NaN      NaN  \n",
      "33         NaN        NaN      NaN  \n",
      "34         NaN        NaN      NaN  \n",
      "35         NaN        NaN      NaN  \n",
      "36         NaN        NaN      NaN  \n",
      "37         NaN        NaN      NaN  \n",
      "38         NaN        NaN      NaN  \n",
      "39         NaN        NaN      NaN  \n",
      "40         NaN        NaN      NaN  \n",
      "41         NaN        NaN      NaN  \n",
      "42         NaN        NaN      NaN  \n",
      "43         NaN        NaN      NaN  \n",
      "44         NaN        NaN      NaN  \n",
      "45         NaN        NaN      NaN  \n",
      "46         NaN        NaN      NaN  \n",
      "47         NaN        NaN      NaN  \n",
      "48         NaN        NaN      NaN  \n",
      "49         NaN        NaN      NaN  \n"
     ]
    }
   ],
   "source": [
    "print(df)"
   ]
  }
 ],
 "metadata": {
  "kernelspec": {
   "display_name": "Python 3",
   "language": "python",
   "name": "python3"
  },
  "language_info": {
   "codemirror_mode": {
    "name": "ipython",
    "version": 3
   },
   "file_extension": ".py",
   "mimetype": "text/x-python",
   "name": "python",
   "nbconvert_exporter": "python",
   "pygments_lexer": "ipython3",
   "version": "3.11.4"
  },
  "orig_nbformat": 4
 },
 "nbformat": 4,
 "nbformat_minor": 2
}
