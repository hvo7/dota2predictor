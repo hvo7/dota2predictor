{
 "cells": [
  {
   "cell_type": "code",
   "execution_count": 41,
   "metadata": {},
   "outputs": [],
   "source": [
    "import pandas as pd\n",
    "import numpy as np\n",
    "import matplotlib.pyplot as plt"
   ]
  },
  {
   "cell_type": "code",
   "execution_count": 42,
   "metadata": {},
   "outputs": [],
   "source": [
    "pd.set_option('display.max_rows', None)"
   ]
  },
  {
   "cell_type": "code",
   "execution_count": 43,
   "metadata": {},
   "outputs": [],
   "source": [
    "# Import data\n",
    "df = pd.read_csv(r\"C:\\Users\\henry\\OneDrive - Louisiana State University\\Desktop\\Personal Career\\Dota2Predictor\\dota.csv\")"
   ]
  },
  {
   "cell_type": "code",
   "execution_count": 44,
   "metadata": {},
   "outputs": [],
   "source": [
    "df.dropna(inplace=True)"
   ]
  },
  {
   "cell_type": "code",
   "execution_count": 45,
   "metadata": {},
   "outputs": [
    {
     "data": {
      "text/html": [
       "<div>\n",
       "<style scoped>\n",
       "    .dataframe tbody tr th:only-of-type {\n",
       "        vertical-align: middle;\n",
       "    }\n",
       "\n",
       "    .dataframe tbody tr th {\n",
       "        vertical-align: top;\n",
       "    }\n",
       "\n",
       "    .dataframe thead th {\n",
       "        text-align: right;\n",
       "    }\n",
       "</style>\n",
       "<table border=\"1\" class=\"dataframe\">\n",
       "  <thead>\n",
       "    <tr style=\"text-align: right;\">\n",
       "      <th></th>\n",
       "      <th>MatchID</th>\n",
       "      <th>Date</th>\n",
       "      <th>Hero</th>\n",
       "      <th>Match Duration</th>\n",
       "      <th>Result</th>\n",
       "      <th>Kills</th>\n",
       "      <th>Deaths</th>\n",
       "      <th>Assists</th>\n",
       "      <th>Networth</th>\n",
       "      <th>Team</th>\n",
       "      <th>Enemy_pos1</th>\n",
       "      <th>Enemy_pos2</th>\n",
       "      <th>Enemy_pos3</th>\n",
       "      <th>Enemy_pos4</th>\n",
       "      <th>Enemy_pos5</th>\n",
       "      <th>Ally_pos1</th>\n",
       "      <th>Ally_pos2</th>\n",
       "      <th>Ally_pos3</th>\n",
       "      <th>Ally_pos4</th>\n",
       "    </tr>\n",
       "  </thead>\n",
       "  <tbody>\n",
       "    <tr>\n",
       "      <th>285</th>\n",
       "      <td>6.338322e+09</td>\n",
       "      <td>12/24/2021 3:36</td>\n",
       "      <td>lion</td>\n",
       "      <td>35:36:00</td>\n",
       "      <td>Lost</td>\n",
       "      <td>2.0</td>\n",
       "      <td>5.0</td>\n",
       "      <td>9.0</td>\n",
       "      <td>6500.0</td>\n",
       "      <td>Dire</td>\n",
       "      <td>medusa</td>\n",
       "      <td>templar_assassin</td>\n",
       "      <td>death_prophet</td>\n",
       "      <td>wisp</td>\n",
       "      <td>mirana</td>\n",
       "      <td>phantom_assassin</td>\n",
       "      <td>ember_spirit</td>\n",
       "      <td>magnataur</td>\n",
       "      <td>techies</td>\n",
       "    </tr>\n",
       "    <tr>\n",
       "      <th>286</th>\n",
       "      <td>6.338272e+09</td>\n",
       "      <td>12/24/2021 2:48</td>\n",
       "      <td>crystal_maiden</td>\n",
       "      <td>34:35:00</td>\n",
       "      <td>Won</td>\n",
       "      <td>13.0</td>\n",
       "      <td>6.0</td>\n",
       "      <td>21.0</td>\n",
       "      <td>11400.0</td>\n",
       "      <td>Radiant</td>\n",
       "      <td>juggernaut</td>\n",
       "      <td>skywrath_mage</td>\n",
       "      <td>legion_commander</td>\n",
       "      <td>weaver</td>\n",
       "      <td>ogre_magi</td>\n",
       "      <td>nevermore</td>\n",
       "      <td>invoker</td>\n",
       "      <td>spirit_breaker</td>\n",
       "      <td>snapfire</td>\n",
       "    </tr>\n",
       "    <tr>\n",
       "      <th>287</th>\n",
       "      <td>6.338214e+09</td>\n",
       "      <td>12/24/2021 1:53</td>\n",
       "      <td>rubick</td>\n",
       "      <td>34:54:00</td>\n",
       "      <td>Won</td>\n",
       "      <td>6.0</td>\n",
       "      <td>7.0</td>\n",
       "      <td>23.0</td>\n",
       "      <td>13600.0</td>\n",
       "      <td>Dire</td>\n",
       "      <td>life_stealer</td>\n",
       "      <td>pugna</td>\n",
       "      <td>phoenix</td>\n",
       "      <td>earth_spirit</td>\n",
       "      <td>silencer</td>\n",
       "      <td>skeleton_king</td>\n",
       "      <td>monkey_king</td>\n",
       "      <td>abyssal_underlord</td>\n",
       "      <td>ancient_apparition</td>\n",
       "    </tr>\n",
       "    <tr>\n",
       "      <th>288</th>\n",
       "      <td>6.338081e+09</td>\n",
       "      <td>12/23/2021 23:21</td>\n",
       "      <td>crystal_maiden</td>\n",
       "      <td>33:23:00</td>\n",
       "      <td>Won</td>\n",
       "      <td>2.0</td>\n",
       "      <td>3.0</td>\n",
       "      <td>16.0</td>\n",
       "      <td>9400.0</td>\n",
       "      <td>Dire</td>\n",
       "      <td>pudge</td>\n",
       "      <td>queenofpain</td>\n",
       "      <td>leshrac</td>\n",
       "      <td>witch_doctor</td>\n",
       "      <td>keeper_of_the_light</td>\n",
       "      <td>legion_commander</td>\n",
       "      <td>earth_spirit</td>\n",
       "      <td>nevermore</td>\n",
       "      <td>crystal_maiden</td>\n",
       "    </tr>\n",
       "    <tr>\n",
       "      <th>289</th>\n",
       "      <td>6.336077e+09</td>\n",
       "      <td>12/22/2021 19:19</td>\n",
       "      <td>crystal_maiden</td>\n",
       "      <td>36:17:00</td>\n",
       "      <td>Lost</td>\n",
       "      <td>5.0</td>\n",
       "      <td>9.0</td>\n",
       "      <td>18.0</td>\n",
       "      <td>7500.0</td>\n",
       "      <td>Radiant</td>\n",
       "      <td>phantom_lancer</td>\n",
       "      <td>obsidian_destroyer</td>\n",
       "      <td>snapfire</td>\n",
       "      <td>pudge</td>\n",
       "      <td>hoodwink</td>\n",
       "      <td>faceless_void</td>\n",
       "      <td>invoker</td>\n",
       "      <td>night_stalker</td>\n",
       "      <td>tusk</td>\n",
       "    </tr>\n",
       "  </tbody>\n",
       "</table>\n",
       "</div>"
      ],
      "text/plain": [
       "          MatchID              Date            Hero Match Duration Result  \\\n",
       "285  6.338322e+09   12/24/2021 3:36            lion       35:36:00   Lost   \n",
       "286  6.338272e+09   12/24/2021 2:48  crystal_maiden       34:35:00    Won   \n",
       "287  6.338214e+09   12/24/2021 1:53          rubick       34:54:00    Won   \n",
       "288  6.338081e+09  12/23/2021 23:21  crystal_maiden       33:23:00    Won   \n",
       "289  6.336077e+09  12/22/2021 19:19  crystal_maiden       36:17:00   Lost   \n",
       "\n",
       "     Kills  Deaths  Assists  Networth     Team      Enemy_pos1  \\\n",
       "285    2.0     5.0      9.0    6500.0     Dire          medusa   \n",
       "286   13.0     6.0     21.0   11400.0  Radiant      juggernaut   \n",
       "287    6.0     7.0     23.0   13600.0     Dire    life_stealer   \n",
       "288    2.0     3.0     16.0    9400.0     Dire           pudge   \n",
       "289    5.0     9.0     18.0    7500.0  Radiant  phantom_lancer   \n",
       "\n",
       "             Enemy_pos2        Enemy_pos3    Enemy_pos4           Enemy_pos5  \\\n",
       "285    templar_assassin     death_prophet          wisp               mirana   \n",
       "286       skywrath_mage  legion_commander        weaver            ogre_magi   \n",
       "287               pugna           phoenix  earth_spirit             silencer   \n",
       "288         queenofpain           leshrac  witch_doctor  keeper_of_the_light   \n",
       "289  obsidian_destroyer          snapfire         pudge             hoodwink   \n",
       "\n",
       "            Ally_pos1     Ally_pos2          Ally_pos3           Ally_pos4  \n",
       "285  phantom_assassin  ember_spirit          magnataur             techies  \n",
       "286         nevermore       invoker     spirit_breaker            snapfire  \n",
       "287     skeleton_king   monkey_king  abyssal_underlord  ancient_apparition  \n",
       "288  legion_commander  earth_spirit          nevermore      crystal_maiden  \n",
       "289     faceless_void       invoker      night_stalker                tusk  "
      ]
     },
     "execution_count": 45,
     "metadata": {},
     "output_type": "execute_result"
    }
   ],
   "source": [
    "df.tail()"
   ]
  },
  {
   "cell_type": "markdown",
   "metadata": {},
   "source": [
    "### Change Hero names to familiar names and remove out of position heroes"
   ]
  },
  {
   "cell_type": "markdown",
   "metadata": {},
   "source": [
    "#### Position 1 Enemy Heroes"
   ]
  },
  {
   "cell_type": "code",
   "execution_count": 46,
   "metadata": {},
   "outputs": [],
   "source": [
    "hero_count_pos2 = df['Enemy_pos2'].value_counts()"
   ]
  },
  {
   "cell_type": "code",
   "execution_count": 47,
   "metadata": {},
   "outputs": [],
   "source": [
    "drop_heroes = hero_count_pos2[hero_count_pos2 < 5].index"
   ]
  },
  {
   "cell_type": "code",
   "execution_count": 48,
   "metadata": {},
   "outputs": [],
   "source": [
    "hero_count_pos2 = hero_count_pos2.drop(drop_heroes)"
   ]
  },
  {
   "cell_type": "code",
   "execution_count": 49,
   "metadata": {},
   "outputs": [],
   "source": [
    "enemy_heroes_pos2 = sorted(hero_count_pos2.to_dict())"
   ]
  },
  {
   "cell_type": "code",
   "execution_count": 50,
   "metadata": {},
   "outputs": [],
   "source": [
    "enemy_pos2_winrates = {}\n",
    "\n",
    "for hero in enemy_heroes_pos2:\n",
    "    matches_of_hero = df[df['Enemy_pos2'] == hero]\n",
    "    num_matches = len(matches_of_hero)\n",
    "    num_won_matches = len(matches_of_hero[matches_of_hero['Result'] == 'Won'] == True)\n",
    "    winrate = round(num_won_matches/num_matches * 100,2)\n",
    "    enemy_pos2_winrates[hero] = winrate"
   ]
  },
  {
   "cell_type": "code",
   "execution_count": 51,
   "metadata": {},
   "outputs": [],
   "source": [
    "descending_by_winrate = dict(sorted(enemy_pos2_winrates.items(), key=lambda item : item[1], reverse= True))"
   ]
  },
  {
   "cell_type": "code",
   "execution_count": 52,
   "metadata": {},
   "outputs": [
    {
     "data": {
      "image/png": "[encoded data removed]",
      "text/plain": [
       "<Figure size 1000x800 with 1 Axes>"
      ]
     },
     "metadata": {},
     "output_type": "display_data"
    }
   ],
   "source": [
    "fig, ax = plt.subplots(figsize=(10, 8))\n",
    "heroes = list(descending_by_winrate.keys())\n",
    "win_rates = list(descending_by_winrate.values())\n",
    "\n",
    "ax.barh(heroes, win_rates, color='skyblue')\n",
    "\n",
    "ax.set_xlabel('Win Rate (%)')\n",
    "ax.set_title('Hero Win Rates')\n",
    "\n",
    "plt.gca().invert_yaxis()  # Invert the y-axis to display heroes with the highest win rate at the top\n",
    "ax.axvline(x=50, color='red', linestyle='--', linewidth=1)\n",
    "plt.show()"
   ]
  },
  {
   "cell_type": "markdown",
   "metadata": {},
   "source": [
    "### Graph Deaths vs. hero winrates"
   ]
  },
  {
   "cell_type": "code",
   "execution_count": 53,
   "metadata": {},
   "outputs": [
    {
     "data": {
      "text/plain": [
       "{'pangolier': 77.78,\n",
       " 'windrunner': 70.0,\n",
       " 'ember_spirit': 66.67,\n",
       " 'leshrac': 66.67,\n",
       " 'queenofpain': 66.67,\n",
       " 'puck': 61.11,\n",
       " 'storm_spirit': 60.0,\n",
       " 'sniper': 57.14,\n",
       " 'tinker': 54.55,\n",
       " 'zuus': 54.55,\n",
       " 'void_spirit': 50.0,\n",
       " 'lina': 42.86,\n",
       " 'invoker': 40.0,\n",
       " 'magnataur': 40.0,\n",
       " 'necrolyte': 37.5,\n",
       " 'obsidian_destroyer': 37.5,\n",
       " 'pudge': 37.5,\n",
       " 'nevermore': 33.33}"
      ]
     },
     "execution_count": 53,
     "metadata": {},
     "output_type": "execute_result"
    }
   ],
   "source": [
    "descending_by_winrate"
   ]
  },
  {
   "cell_type": "code",
   "execution_count": 54,
   "metadata": {},
   "outputs": [],
   "source": [
    "filter = df[df['Enemy_pos2'] == 'gyrocopter']"
   ]
  },
  {
   "cell_type": "code",
   "execution_count": 55,
   "metadata": {},
   "outputs": [],
   "source": [
    "enemy_pos2_deaths = {}\n",
    "\n",
    "for hero in descending_by_winrate.keys():\n",
    "    filter = df[df['Enemy_pos2'] == hero]\n",
    "\n",
    "    avg_deaths = round(filter['Deaths'].mean(),2)\n",
    "    enemy_pos2_deaths[hero] = avg_deaths\n",
    "    \n",
    "    "
   ]
  },
  {
   "cell_type": "code",
   "execution_count": 56,
   "metadata": {},
   "outputs": [
    {
     "data": {
      "text/plain": [
       "{'pangolier': 6.22,\n",
       " 'windrunner': 7.3,\n",
       " 'ember_spirit': 6.58,\n",
       " 'leshrac': 6.5,\n",
       " 'queenofpain': 5.33,\n",
       " 'puck': 7.5,\n",
       " 'storm_spirit': 8.7,\n",
       " 'sniper': 6.29,\n",
       " 'tinker': 6.55,\n",
       " 'zuus': 7.91,\n",
       " 'void_spirit': 5.25,\n",
       " 'lina': 5.29,\n",
       " 'invoker': 7.53,\n",
       " 'magnataur': 7.6,\n",
       " 'necrolyte': 7.75,\n",
       " 'obsidian_destroyer': 7.81,\n",
       " 'pudge': 5.88,\n",
       " 'nevermore': 7.0}"
      ]
     },
     "execution_count": 56,
     "metadata": {},
     "output_type": "execute_result"
    }
   ],
   "source": [
    "enemy_pos2_deaths"
   ]
  },
  {
   "cell_type": "code",
   "execution_count": 57,
   "metadata": {},
   "outputs": [],
   "source": [
    "descending_by_deaths = dict(sorted(enemy_pos2_deaths.items(), key=lambda item : item[1], reverse= True))"
   ]
  },
  {
   "cell_type": "code",
   "execution_count": 58,
   "metadata": {},
   "outputs": [
    {
     "data": {
      "text/plain": [
       "{'storm_spirit': 8.7,\n",
       " 'zuus': 7.91,\n",
       " 'obsidian_destroyer': 7.81,\n",
       " 'necrolyte': 7.75,\n",
       " 'magnataur': 7.6,\n",
       " 'invoker': 7.53,\n",
       " 'puck': 7.5,\n",
       " 'windrunner': 7.3,\n",
       " 'nevermore': 7.0,\n",
       " 'ember_spirit': 6.58,\n",
       " 'tinker': 6.55,\n",
       " 'leshrac': 6.5,\n",
       " 'sniper': 6.29,\n",
       " 'pangolier': 6.22,\n",
       " 'pudge': 5.88,\n",
       " 'queenofpain': 5.33,\n",
       " 'lina': 5.29,\n",
       " 'void_spirit': 5.25}"
      ]
     },
     "execution_count": 58,
     "metadata": {},
     "output_type": "execute_result"
    }
   ],
   "source": [
    "descending_by_deaths"
   ]
  },
  {
   "cell_type": "code",
   "execution_count": 59,
   "metadata": {},
   "outputs": [],
   "source": [
    "for hero,winrate in descending_by_winrate.items():\n",
    "    descending_by_winrate[hero] = np.float64(descending_by_winrate[hero])"
   ]
  },
  {
   "cell_type": "code",
   "execution_count": 61,
   "metadata": {},
   "outputs": [
    {
     "data": {
      "image/png": "[encoded data removed]",
      "text/plain": [
       "<Figure size 1000x800 with 1 Axes>"
      ]
     },
     "metadata": {},
     "output_type": "display_data"
    }
   ],
   "source": [
    "fig, ax = plt.subplots(figsize=(10, 8))\n",
    "\n",
    "# Scatterplot\n",
    "heroes = descending_by_deaths.keys()\n",
    "scatter = ax.scatter(list(enemy_pos2_winrates.values()), list(descending_by_deaths.values()), color='skyblue')\n",
    "\n",
    "# Label each point with its respective hero name\n",
    "for hero, deaths, winrate in zip(heroes, descending_by_deaths.values(), enemy_pos2_winrates.values()):\n",
    "    ax.annotate(hero, (winrate, deaths), textcoords=\"offset points\", xytext=(0, 10), ha='center', fontsize = '6')\n",
    "\n",
    "# Set axis labels and title\n",
    "ax.set_xlabel('Win Rate (%)')\n",
    "ax.set_ylabel('Average Deaths')\n",
    "ax.set_title('Hero Win Rates')\n",
    "\n",
    "# Set custom tick marks for the x-axis\n",
    "x_ticks = [20, 40, 60, 80, 100]\n",
    "ax.set_xticks(x_ticks)\n",
    "\n",
    "# Invert the y-axis to display heroes with the highest win rate at the top\n",
    "\n",
    "\n",
    "# Show the plot\n",
    "plt.grid(True)\n",
    "plt.show()"
   ]
  }
 ],
 "metadata": {
  "kernelspec": {
   "display_name": "Python 3",
   "language": "python",
   "name": "python3"
  },
  "language_info": {
   "codemirror_mode": {
    "name": "ipython",
    "version": 3
   },
   "file_extension": ".py",
   "mimetype": "text/x-python",
   "name": "python",
   "nbconvert_exporter": "python",
   "pygments_lexer": "ipython3",
   "version": "3.11.4"
  },
  "orig_nbformat": 4
 },
 "nbformat": 4,
 "nbformat_minor": 2
}
