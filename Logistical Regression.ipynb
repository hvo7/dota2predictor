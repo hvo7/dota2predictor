{
 "cells": [
  {
   "cell_type": "code",
   "execution_count": 329,
   "metadata": {},
   "outputs": [],
   "source": [
    "import pandas as pd\n",
    "import numpy as np\n",
    "from sklearn.linear_model import LogisticRegression\n",
    "from sklearn.model_selection import train_test_split"
   ]
  },
  {
   "cell_type": "code",
   "execution_count": 330,
   "metadata": {},
   "outputs": [],
   "source": [
    "pd.set_option('display.max_rows', None)"
   ]
  },
  {
   "cell_type": "code",
   "execution_count": 331,
   "metadata": {},
   "outputs": [
    {
     "data": {
      "text/html": [
       "<div>\n",
       "<style scoped>\n",
       "    .dataframe tbody tr th:only-of-type {\n",
       "        vertical-align: middle;\n",
       "    }\n",
       "\n",
       "    .dataframe tbody tr th {\n",
       "        vertical-align: top;\n",
       "    }\n",
       "\n",
       "    .dataframe thead th {\n",
       "        text-align: right;\n",
       "    }\n",
       "</style>\n",
       "<table border=\"1\" class=\"dataframe\">\n",
       "  <thead>\n",
       "    <tr style=\"text-align: right;\">\n",
       "      <th></th>\n",
       "      <th>MatchID</th>\n",
       "      <th>Date</th>\n",
       "      <th>Hero</th>\n",
       "      <th>Match Duration</th>\n",
       "      <th>Result</th>\n",
       "      <th>Kills</th>\n",
       "      <th>Deaths</th>\n",
       "      <th>Assists</th>\n",
       "      <th>Networth</th>\n",
       "      <th>Team</th>\n",
       "      <th>Enemy_pos1</th>\n",
       "      <th>Enemy_pos2</th>\n",
       "      <th>Enemy_pos3</th>\n",
       "      <th>Enemy_pos4</th>\n",
       "      <th>Enemy_pos5</th>\n",
       "      <th>Ally_pos1</th>\n",
       "      <th>Ally_pos2</th>\n",
       "      <th>Ally_pos3</th>\n",
       "      <th>Ally_pos4</th>\n",
       "    </tr>\n",
       "  </thead>\n",
       "  <tbody>\n",
       "    <tr>\n",
       "      <th>0</th>\n",
       "      <td>7.343242e+09</td>\n",
       "      <td>9/19/2023 23:29</td>\n",
       "      <td>rubick</td>\n",
       "      <td>36:41:00</td>\n",
       "      <td>Lost</td>\n",
       "      <td>9.0</td>\n",
       "      <td>9.0</td>\n",
       "      <td>12.0</td>\n",
       "      <td>11200.0</td>\n",
       "      <td>Radiant</td>\n",
       "      <td>bloodseeker</td>\n",
       "      <td>primal_beast</td>\n",
       "      <td>centaur</td>\n",
       "      <td>spirit_breaker</td>\n",
       "      <td>venomancer</td>\n",
       "      <td>skeleton_king</td>\n",
       "      <td>invoker</td>\n",
       "      <td>legion_commander</td>\n",
       "      <td>earthshaker</td>\n",
       "    </tr>\n",
       "    <tr>\n",
       "      <th>1</th>\n",
       "      <td>7.341850e+09</td>\n",
       "      <td>9/19/2023 0:11</td>\n",
       "      <td>warlock</td>\n",
       "      <td>55:00:00</td>\n",
       "      <td>Lost</td>\n",
       "      <td>2.0</td>\n",
       "      <td>9.0</td>\n",
       "      <td>17.0</td>\n",
       "      <td>16400.0</td>\n",
       "      <td>Radiant</td>\n",
       "      <td>monkey_king</td>\n",
       "      <td>obsidian_destroyer</td>\n",
       "      <td>axe</td>\n",
       "      <td>jakiro</td>\n",
       "      <td>skywrath_mage</td>\n",
       "      <td>luna</td>\n",
       "      <td>invoker</td>\n",
       "      <td>kunkka</td>\n",
       "      <td>ancient_apparition</td>\n",
       "    </tr>\n",
       "    <tr>\n",
       "      <th>2</th>\n",
       "      <td>7.333781e+09</td>\n",
       "      <td>9/13/2023 22:15</td>\n",
       "      <td>rubick</td>\n",
       "      <td>47:42:00</td>\n",
       "      <td>Lost</td>\n",
       "      <td>1.0</td>\n",
       "      <td>9.0</td>\n",
       "      <td>21.0</td>\n",
       "      <td>11400.0</td>\n",
       "      <td>Dire</td>\n",
       "      <td>nevermore</td>\n",
       "      <td>obsidian_destroyer</td>\n",
       "      <td>axe</td>\n",
       "      <td>vengefulspirit</td>\n",
       "      <td>snapfire</td>\n",
       "      <td>sven</td>\n",
       "      <td>invoker</td>\n",
       "      <td>centaur</td>\n",
       "      <td>witch_doctor</td>\n",
       "    </tr>\n",
       "    <tr>\n",
       "      <th>3</th>\n",
       "      <td>7.333761e+09</td>\n",
       "      <td>9/13/2023 21:16</td>\n",
       "      <td>rubick</td>\n",
       "      <td>30:02:00</td>\n",
       "      <td>Lost</td>\n",
       "      <td>1.0</td>\n",
       "      <td>8.0</td>\n",
       "      <td>9.0</td>\n",
       "      <td>8000.0</td>\n",
       "      <td>Dire</td>\n",
       "      <td>juggernaut</td>\n",
       "      <td>sand_king</td>\n",
       "      <td>dawnbreaker</td>\n",
       "      <td>skywrath_mage</td>\n",
       "      <td>vengefulspirit</td>\n",
       "      <td>phantom_assassin</td>\n",
       "      <td>lone_druid</td>\n",
       "      <td>legion_commander</td>\n",
       "      <td>abaddon</td>\n",
       "    </tr>\n",
       "    <tr>\n",
       "      <th>4</th>\n",
       "      <td>7.325788e+09</td>\n",
       "      <td>9/8/2023 17:12</td>\n",
       "      <td>jakiro</td>\n",
       "      <td>42:19:00</td>\n",
       "      <td>Lost</td>\n",
       "      <td>6.0</td>\n",
       "      <td>8.0</td>\n",
       "      <td>16.0</td>\n",
       "      <td>15500.0</td>\n",
       "      <td>Dire</td>\n",
       "      <td>drow_ranger</td>\n",
       "      <td>razor</td>\n",
       "      <td>slardar</td>\n",
       "      <td>treant</td>\n",
       "      <td>warlock</td>\n",
       "      <td>muerta</td>\n",
       "      <td>lone_druid</td>\n",
       "      <td>spirit_breaker</td>\n",
       "      <td>silencer</td>\n",
       "    </tr>\n",
       "  </tbody>\n",
       "</table>\n",
       "</div>"
      ],
      "text/plain": [
       "        MatchID             Date     Hero Match Duration Result  Kills  \\\n",
       "0  7.343242e+09  9/19/2023 23:29   rubick       36:41:00   Lost    9.0   \n",
       "1  7.341850e+09   9/19/2023 0:11  warlock       55:00:00   Lost    2.0   \n",
       "2  7.333781e+09  9/13/2023 22:15   rubick       47:42:00   Lost    1.0   \n",
       "3  7.333761e+09  9/13/2023 21:16   rubick       30:02:00   Lost    1.0   \n",
       "4  7.325788e+09   9/8/2023 17:12   jakiro       42:19:00   Lost    6.0   \n",
       "\n",
       "   Deaths  Assists  Networth     Team   Enemy_pos1          Enemy_pos2  \\\n",
       "0     9.0     12.0   11200.0  Radiant  bloodseeker        primal_beast   \n",
       "1     9.0     17.0   16400.0  Radiant  monkey_king  obsidian_destroyer   \n",
       "2     9.0     21.0   11400.0     Dire    nevermore  obsidian_destroyer   \n",
       "3     8.0      9.0    8000.0     Dire   juggernaut           sand_king   \n",
       "4     8.0     16.0   15500.0     Dire  drow_ranger               razor   \n",
       "\n",
       "    Enemy_pos3      Enemy_pos4      Enemy_pos5         Ally_pos1   Ally_pos2  \\\n",
       "0      centaur  spirit_breaker      venomancer     skeleton_king     invoker   \n",
       "1          axe          jakiro   skywrath_mage              luna     invoker   \n",
       "2          axe  vengefulspirit        snapfire              sven     invoker   \n",
       "3  dawnbreaker   skywrath_mage  vengefulspirit  phantom_assassin  lone_druid   \n",
       "4      slardar          treant         warlock            muerta  lone_druid   \n",
       "\n",
       "          Ally_pos3           Ally_pos4  \n",
       "0  legion_commander         earthshaker  \n",
       "1            kunkka  ancient_apparition  \n",
       "2           centaur        witch_doctor  \n",
       "3  legion_commander             abaddon  \n",
       "4    spirit_breaker            silencer  "
      ]
     },
     "execution_count": 331,
     "metadata": {},
     "output_type": "execute_result"
    }
   ],
   "source": [
    "df.head()"
   ]
  },
  {
   "cell_type": "code",
   "execution_count": 332,
   "metadata": {},
   "outputs": [],
   "source": [
    "df = pd.read_csv(r\"C:\\Users\\henry\\OneDrive - Louisiana State University\\Dota2Predictor\\dota.csv\")"
   ]
  },
  {
   "cell_type": "code",
   "execution_count": 333,
   "metadata": {},
   "outputs": [],
   "source": [
    "df.dropna(inplace=True)"
   ]
  },
  {
   "cell_type": "markdown",
   "metadata": {},
   "source": [
    "# Use Binary Logistic Regression to predict Win Probability"
   ]
  },
  {
   "cell_type": "markdown",
   "metadata": {},
   "source": [
    "## Win Probability vs. Number of Deaths"
   ]
  },
  {
   "cell_type": "code",
   "execution_count": 334,
   "metadata": {},
   "outputs": [],
   "source": [
    "X = df['Deaths']"
   ]
  },
  {
   "cell_type": "code",
   "execution_count": 335,
   "metadata": {},
   "outputs": [],
   "source": [
    "y = df['Result'].replace({'Won' : 1, 'Lost' : 0}).to_frame()"
   ]
  },
  {
   "cell_type": "code",
   "execution_count": 336,
   "metadata": {},
   "outputs": [
    {
     "data": {
      "text/plain": [
       "Text(0, 0.5, 'Result')"
      ]
     },
     "execution_count": 336,
     "metadata": {},
     "output_type": "execute_result"
    },
    {
     "data": {
      "image/png": "[encoded data removed]",
      "text/plain": [
       "<Figure size 640x480 with 1 Axes>"
      ]
     },
     "metadata": {},
     "output_type": "display_data"
    }
   ],
   "source": [
    "plt.scatter(df.Deaths, y.Result, marker = 'o', color = 'b')\n",
    "\n",
    "plt.xlabel('Number of Deaths')\n",
    "plt.ylabel('Result')"
   ]
  },
  {
   "cell_type": "code",
   "execution_count": 337,
   "metadata": {},
   "outputs": [],
   "source": [
    "X_train, X_test, y_train, y_test = train_test_split(df[['Deaths']], y, train_size=0.9)"
   ]
  },
  {
   "cell_type": "code",
   "execution_count": 338,
   "metadata": {},
   "outputs": [],
   "source": [
    "model = LogisticRegression()"
   ]
  },
  {
   "cell_type": "code",
   "execution_count": 339,
   "metadata": {},
   "outputs": [
    {
     "name": "stderr",
     "output_type": "stream",
     "text": [
      "C:\\Users\\henry\\AppData\\Local\\Packages\\PythonSoftwareFoundation.Python.3.11_qbz5n2kfra8p0\\LocalCache\\local-packages\\Python311\\site-packages\\sklearn\\utils\\validation.py:1183: DataConversionWarning: A column-vector y was passed when a 1d array was expected. Please change the shape of y to (n_samples, ), for example using ravel().\n",
      "  y = column_or_1d(y, warn=True)\n"
     ]
    },
    {
     "data": {
      "text/html": [
       "<style>#sk-container-id-10 {color: black;}#sk-container-id-10 pre{padding: 0;}#sk-container-id-10 div.sk-toggleable {background-color: white;}#sk-container-id-10 label.sk-toggleable__label {cursor: pointer;display: block;width: 100%;margin-bottom: 0;padding: 0.3em;box-sizing: border-box;text-align: center;}#sk-container-id-10 label.sk-toggleable__label-arrow:before {content: \"▸\";float: left;margin-right: 0.25em;color: #696969;}#sk-container-id-10 label.sk-toggleable__label-arrow:hover:before {color: black;}#sk-container-id-10 div.sk-estimator:hover label.sk-toggleable__label-arrow:before {color: black;}#sk-container-id-10 div.sk-toggleable__content {max-height: 0;max-width: 0;overflow: hidden;text-align: left;background-color: #f0f8ff;}#sk-container-id-10 div.sk-toggleable__content pre {margin: 0.2em;color: black;border-radius: 0.25em;background-color: #f0f8ff;}#sk-container-id-10 input.sk-toggleable__control:checked~div.sk-toggleable__content {max-height: 200px;max-width: 100%;overflow: auto;}#sk-container-id-10 input.sk-toggleable__control:checked~label.sk-toggleable__label-arrow:before {content: \"▾\";}#sk-container-id-10 div.sk-estimator input.sk-toggleable__control:checked~label.sk-toggleable__label {background-color: #d4ebff;}#sk-container-id-10 div.sk-label input.sk-toggleable__control:checked~label.sk-toggleable__label {background-color: #d4ebff;}#sk-container-id-10 input.sk-hidden--visually {border: 0;clip: rect(1px 1px 1px 1px);clip: rect(1px, 1px, 1px, 1px);height: 1px;margin: -1px;overflow: hidden;padding: 0;position: absolute;width: 1px;}#sk-container-id-10 div.sk-estimator {font-family: monospace;background-color: #f0f8ff;border: 1px dotted black;border-radius: 0.25em;box-sizing: border-box;margin-bottom: 0.5em;}#sk-container-id-10 div.sk-estimator:hover {background-color: #d4ebff;}#sk-container-id-10 div.sk-parallel-item::after {content: \"\";width: 100%;border-bottom: 1px solid gray;flex-grow: 1;}#sk-container-id-10 div.sk-label:hover label.sk-toggleable__label {background-color: #d4ebff;}#sk-container-id-10 div.sk-serial::before {content: \"\";position: absolute;border-left: 1px solid gray;box-sizing: border-box;top: 0;bottom: 0;left: 50%;z-index: 0;}#sk-container-id-10 div.sk-serial {display: flex;flex-direction: column;align-items: center;background-color: white;padding-right: 0.2em;padding-left: 0.2em;position: relative;}#sk-container-id-10 div.sk-item {position: relative;z-index: 1;}#sk-container-id-10 div.sk-parallel {display: flex;align-items: stretch;justify-content: center;background-color: white;position: relative;}#sk-container-id-10 div.sk-item::before, #sk-container-id-10 div.sk-parallel-item::before {content: \"\";position: absolute;border-left: 1px solid gray;box-sizing: border-box;top: 0;bottom: 0;left: 50%;z-index: -1;}#sk-container-id-10 div.sk-parallel-item {display: flex;flex-direction: column;z-index: 1;position: relative;background-color: white;}#sk-container-id-10 div.sk-parallel-item:first-child::after {align-self: flex-end;width: 50%;}#sk-container-id-10 div.sk-parallel-item:last-child::after {align-self: flex-start;width: 50%;}#sk-container-id-10 div.sk-parallel-item:only-child::after {width: 0;}#sk-container-id-10 div.sk-dashed-wrapped {border: 1px dashed gray;margin: 0 0.4em 0.5em 0.4em;box-sizing: border-box;padding-bottom: 0.4em;background-color: white;}#sk-container-id-10 div.sk-label label {font-family: monospace;font-weight: bold;display: inline-block;line-height: 1.2em;}#sk-container-id-10 div.sk-label-container {text-align: center;}#sk-container-id-10 div.sk-container {/* jupyter's `normalize.less` sets `[hidden] { display: none; }` but bootstrap.min.css set `[hidden] { display: none !important; }` so we also need the `!important` here to be able to override the default hidden behavior on the sphinx rendered scikit-learn.org. See: https://github.com/scikit-learn/scikit-learn/issues/21755 */display: inline-block !important;position: relative;}#sk-container-id-10 div.sk-text-repr-fallback {display: none;}</style><div id=\"sk-container-id-10\" class=\"sk-top-container\"><div class=\"sk-text-repr-fallback\"><pre>LogisticRegression()</pre><b>In a Jupyter environment, please rerun this cell to show the HTML representation or trust the notebook. <br />On GitHub, the HTML representation is unable to render, please try loading this page with nbviewer.org.</b></div><div class=\"sk-container\" hidden><div class=\"sk-item\"><div class=\"sk-estimator sk-toggleable\"><input class=\"sk-toggleable__control sk-hidden--visually\" id=\"sk-estimator-id-10\" type=\"checkbox\" checked><label for=\"sk-estimator-id-10\" class=\"sk-toggleable__label sk-toggleable__label-arrow\">LogisticRegression</label><div class=\"sk-toggleable__content\"><pre>LogisticRegression()</pre></div></div></div></div></div>"
      ],
      "text/plain": [
       "LogisticRegression()"
      ]
     },
     "execution_count": 339,
     "metadata": {},
     "output_type": "execute_result"
    }
   ],
   "source": [
    "model.fit(X_train, y_train)"
   ]
  },
  {
   "cell_type": "code",
   "execution_count": 340,
   "metadata": {},
   "outputs": [],
   "source": [
    "ypred = model.predict(X_test)"
   ]
  },
  {
   "cell_type": "markdown",
   "metadata": {},
   "source": [
    "### Check Accuracy"
   ]
  },
  {
   "cell_type": "code",
   "execution_count": 341,
   "metadata": {},
   "outputs": [
    {
     "data": {
      "text/plain": [
       "0.6896551724137931"
      ]
     },
     "execution_count": 341,
     "metadata": {},
     "output_type": "execute_result"
    }
   ],
   "source": [
    "model.score(X_test,y_test)"
   ]
  },
  {
   "cell_type": "code",
   "execution_count": 342,
   "metadata": {},
   "outputs": [],
   "source": [
    "X_predict = np.arange(1,18)"
   ]
  },
  {
   "cell_type": "code",
   "execution_count": 343,
   "metadata": {},
   "outputs": [
    {
     "name": "stderr",
     "output_type": "stream",
     "text": [
      "C:\\Users\\henry\\AppData\\Local\\Packages\\PythonSoftwareFoundation.Python.3.11_qbz5n2kfra8p0\\LocalCache\\local-packages\\Python311\\site-packages\\sklearn\\base.py:465: UserWarning: X does not have valid feature names, but LogisticRegression was fitted with feature names\n",
      "  warnings.warn(\n"
     ]
    }
   ],
   "source": [
    "probabilities = model.predict_proba(X_predict.reshape(-1, 1))"
   ]
  },
  {
   "cell_type": "code",
   "execution_count": 344,
   "metadata": {},
   "outputs": [
    {
     "data": {
      "text/plain": [
       "numpy.ndarray"
      ]
     },
     "execution_count": 344,
     "metadata": {},
     "output_type": "execute_result"
    }
   ],
   "source": [
    "type(probabilities[:,1])"
   ]
  },
  {
   "cell_type": "code",
   "execution_count": 345,
   "metadata": {},
   "outputs": [
    {
     "data": {
      "image/png": "[encoded data removed]",
      "text/plain": [
       "<Figure size 1000x600 with 1 Axes>"
      ]
     },
     "metadata": {},
     "output_type": "display_data"
    }
   ],
   "source": [
    "plt.figure(figsize = (10,6))\n",
    "\n",
    "plt.scatter(X_predict, probabilities[:,1], marker = 'o', color = 'green')\n",
    "\n",
    "\n",
    "x_ticks = list(range(2,20,2))\n",
    "\n",
    "plt.xticks(x_ticks)\n",
    "plt.xlabel('Number of Deaths')\n",
    "plt.ylabel('Win Probability')\n",
    "plt.title(\"Win Probability vs. Number of Deaths\")\n",
    "\n",
    "plt.axhline(y=0.5, color='red', linestyle = '--')\n",
    "\n",
    "plt.grid(True)\n",
    "plt.show()"
   ]
  },
  {
   "cell_type": "markdown",
   "metadata": {},
   "source": [
    "## Win Probability vs. Networth\n"
   ]
  },
  {
   "cell_type": "code",
   "execution_count": 346,
   "metadata": {},
   "outputs": [],
   "source": [
    "X = df['Networth']"
   ]
  },
  {
   "cell_type": "code",
   "execution_count": 347,
   "metadata": {},
   "outputs": [
    {
     "data": {
      "text/plain": [
       "<matplotlib.collections.PathCollection at 0x20633ba3910>"
      ]
     },
     "execution_count": 347,
     "metadata": {},
     "output_type": "execute_result"
    },
    {
     "data": {
      "image/png": "[encoded data removed]",
      "text/plain": [
       "<Figure size 1000x1000 with 1 Axes>"
      ]
     },
     "metadata": {},
     "output_type": "display_data"
    }
   ],
   "source": [
    "plt.figure(figsize = (10,10))\n",
    "\n",
    "plt.scatter(X, y, marker = 'o', color = 'red')"
   ]
  },
  {
   "cell_type": "markdown",
   "metadata": {},
   "source": [
    "#### Remove Outlier - Was a match I disconnected"
   ]
  },
  {
   "cell_type": "code",
   "execution_count": 348,
   "metadata": {},
   "outputs": [
    {
     "data": {
      "text/plain": [
       "[103000.0,\n",
       " 25500.0,\n",
       " 24500.0,\n",
       " 24300.0,\n",
       " 23700.0,\n",
       " 23484.0,\n",
       " 23300.0,\n",
       " 23100.0,\n",
       " 22100.0,\n",
       " 22100.0,\n",
       " 20900.0,\n",
       " 20600.0,\n",
       " 20500.0,\n",
       " 20500.0,\n",
       " 20400.0,\n",
       " 20100.0,\n",
       " 19778.0,\n",
       " 19700.0,\n",
       " 19700.0,\n",
       " 19300.0,\n",
       " 18900.0,\n",
       " 18900.0,\n",
       " 18900.0,\n",
       " 18800.0,\n",
       " 18600.0,\n",
       " 18400.0,\n",
       " 18200.0,\n",
       " 17800.0,\n",
       " 17800.0,\n",
       " 17700.0,\n",
       " 17600.0,\n",
       " 17600.0,\n",
       " 17300.0,\n",
       " 17200.0,\n",
       " 17200.0,\n",
       " 17000.0,\n",
       " 16900.0,\n",
       " 16900.0,\n",
       " 16800.0,\n",
       " 16700.0,\n",
       " 16600.0,\n",
       " 16600.0,\n",
       " 16600.0,\n",
       " 16500.0,\n",
       " 16500.0,\n",
       " 16400.0,\n",
       " 16383.0,\n",
       " 16369.0,\n",
       " 16300.0,\n",
       " 16200.0,\n",
       " 16100.0,\n",
       " 16100.0,\n",
       " 16100.0,\n",
       " 16100.0,\n",
       " 16100.0,\n",
       " 16100.0,\n",
       " 16000.0,\n",
       " 16000.0,\n",
       " 15900.0,\n",
       " 15800.0,\n",
       " 15700.0,\n",
       " 15700.0,\n",
       " 15700.0,\n",
       " 15700.0,\n",
       " 15700.0,\n",
       " 15600.0,\n",
       " 15600.0,\n",
       " 15600.0,\n",
       " 15500.0,\n",
       " 15500.0,\n",
       " 15400.0,\n",
       " 15300.0,\n",
       " 15300.0,\n",
       " 15300.0,\n",
       " 15300.0,\n",
       " 15300.0,\n",
       " 15200.0,\n",
       " 15000.0,\n",
       " 14800.0,\n",
       " 14800.0,\n",
       " 14800.0,\n",
       " 14600.0,\n",
       " 14500.0,\n",
       " 14500.0,\n",
       " 14300.0,\n",
       " 14200.0,\n",
       " 14100.0,\n",
       " 14000.0,\n",
       " 14000.0,\n",
       " 14000.0,\n",
       " 13900.0,\n",
       " 13900.0,\n",
       " 13900.0,\n",
       " 13800.0,\n",
       " 13800.0,\n",
       " 13800.0,\n",
       " 13800.0,\n",
       " 13700.0,\n",
       " 13700.0,\n",
       " 13700.0,\n",
       " 13600.0,\n",
       " 13600.0,\n",
       " 13500.0,\n",
       " 13500.0,\n",
       " 13500.0,\n",
       " 13489.0,\n",
       " 13200.0,\n",
       " 13000.0,\n",
       " 13000.0,\n",
       " 12900.0,\n",
       " 12900.0,\n",
       " 12800.0,\n",
       " 12700.0,\n",
       " 12700.0,\n",
       " 12700.0,\n",
       " 12600.0,\n",
       " 12600.0,\n",
       " 12600.0,\n",
       " 12500.0,\n",
       " 12500.0,\n",
       " 12500.0,\n",
       " 12400.0,\n",
       " 12400.0,\n",
       " 12400.0,\n",
       " 12400.0,\n",
       " 12400.0,\n",
       " 12400.0,\n",
       " 12300.0,\n",
       " 12200.0,\n",
       " 12200.0,\n",
       " 12100.0,\n",
       " 12100.0,\n",
       " 12081.0,\n",
       " 12000.0,\n",
       " 12000.0,\n",
       " 11800.0,\n",
       " 11800.0,\n",
       " 11761.0,\n",
       " 11600.0,\n",
       " 11600.0,\n",
       " 11600.0,\n",
       " 11500.0,\n",
       " 11400.0,\n",
       " 11400.0,\n",
       " 11400.0,\n",
       " 11300.0,\n",
       " 11300.0,\n",
       " 11300.0,\n",
       " 11200.0,\n",
       " 11200.0,\n",
       " 11200.0,\n",
       " 11100.0,\n",
       " 11100.0,\n",
       " 11100.0,\n",
       " 11000.0,\n",
       " 11000.0,\n",
       " 11000.0,\n",
       " 11000.0,\n",
       " 11000.0,\n",
       " 11000.0,\n",
       " 11000.0,\n",
       " 10900.0,\n",
       " 10800.0,\n",
       " 10800.0,\n",
       " 10700.0,\n",
       " 10700.0,\n",
       " 10700.0,\n",
       " 10700.0,\n",
       " 10692.0,\n",
       " 10685.0,\n",
       " 10600.0,\n",
       " 10600.0,\n",
       " 10600.0,\n",
       " 10600.0,\n",
       " 10500.0,\n",
       " 10500.0,\n",
       " 10500.0,\n",
       " 10400.0,\n",
       " 10400.0,\n",
       " 10400.0,\n",
       " 10400.0,\n",
       " 10300.0,\n",
       " 10300.0,\n",
       " 10300.0,\n",
       " 10200.0,\n",
       " 10200.0,\n",
       " 10200.0,\n",
       " 10100.0,\n",
       " 10000.0,\n",
       " 10000.0,\n",
       " 9986.0,\n",
       " 9800.0,\n",
       " 9800.0,\n",
       " 9800.0,\n",
       " 9700.0,\n",
       " 9700.0,\n",
       " 9700.0,\n",
       " 9700.0,\n",
       " 9600.0,\n",
       " 9600.0,\n",
       " 9600.0,\n",
       " 9500.0,\n",
       " 9400.0,\n",
       " 9400.0,\n",
       " 9300.0,\n",
       " 9300.0,\n",
       " 9300.0,\n",
       " 9200.0,\n",
       " 9100.0,\n",
       " 9100.0,\n",
       " 9000.0,\n",
       " 9000.0,\n",
       " 9000.0,\n",
       " 8900.0,\n",
       " 8900.0,\n",
       " 8900.0,\n",
       " 8900.0,\n",
       " 8900.0,\n",
       " 8900.0,\n",
       " 8800.0,\n",
       " 8800.0,\n",
       " 8700.0,\n",
       " 8700.0,\n",
       " 8500.0,\n",
       " 8500.0,\n",
       " 8500.0,\n",
       " 8400.0,\n",
       " 8400.0,\n",
       " 8300.0,\n",
       " 8300.0,\n",
       " 8300.0,\n",
       " 8200.0,\n",
       " 8200.0,\n",
       " 8100.0,\n",
       " 8100.0,\n",
       " 8100.0,\n",
       " 8100.0,\n",
       " 8100.0,\n",
       " 8000.0,\n",
       " 8000.0,\n",
       " 8000.0,\n",
       " 7900.0,\n",
       " 7800.0,\n",
       " 7700.0,\n",
       " 7700.0,\n",
       " 7600.0,\n",
       " 7600.0,\n",
       " 7600.0,\n",
       " 7600.0,\n",
       " 7600.0,\n",
       " 7600.0,\n",
       " 7500.0,\n",
       " 7500.0,\n",
       " 7500.0,\n",
       " 7500.0,\n",
       " 7400.0,\n",
       " 7400.0,\n",
       " 7300.0,\n",
       " 7300.0,\n",
       " 7254.0,\n",
       " 7200.0,\n",
       " 7100.0,\n",
       " 7100.0,\n",
       " 7100.0,\n",
       " 7100.0,\n",
       " 7000.0,\n",
       " 7000.0,\n",
       " 7000.0,\n",
       " 6900.0,\n",
       " 6600.0,\n",
       " 6600.0,\n",
       " 6500.0,\n",
       " 6500.0,\n",
       " 6300.0,\n",
       " 6300.0,\n",
       " 6100.0,\n",
       " 5800.0,\n",
       " 5700.0,\n",
       " 5700.0,\n",
       " 5600.0,\n",
       " 5600.0,\n",
       " 5500.0,\n",
       " 5400.0,\n",
       " 5400.0,\n",
       " 5300.0,\n",
       " 5300.0,\n",
       " 5200.0,\n",
       " 4500.0,\n",
       " 4300.0,\n",
       " 3400.0]"
      ]
     },
     "execution_count": 348,
     "metadata": {},
     "output_type": "execute_result"
    }
   ],
   "source": [
    "sorted(df['Networth'].values, reverse= True)"
   ]
  },
  {
   "cell_type": "code",
   "execution_count": 349,
   "metadata": {},
   "outputs": [
    {
     "data": {
      "text/html": [
       "<div>\n",
       "<style scoped>\n",
       "    .dataframe tbody tr th:only-of-type {\n",
       "        vertical-align: middle;\n",
       "    }\n",
       "\n",
       "    .dataframe tbody tr th {\n",
       "        vertical-align: top;\n",
       "    }\n",
       "\n",
       "    .dataframe thead th {\n",
       "        text-align: right;\n",
       "    }\n",
       "</style>\n",
       "<table border=\"1\" class=\"dataframe\">\n",
       "  <thead>\n",
       "    <tr style=\"text-align: right;\">\n",
       "      <th></th>\n",
       "      <th>MatchID</th>\n",
       "      <th>Date</th>\n",
       "      <th>Hero</th>\n",
       "      <th>Match Duration</th>\n",
       "      <th>Result</th>\n",
       "      <th>Kills</th>\n",
       "      <th>Deaths</th>\n",
       "      <th>Assists</th>\n",
       "      <th>Networth</th>\n",
       "      <th>Team</th>\n",
       "      <th>Enemy_pos1</th>\n",
       "      <th>Enemy_pos2</th>\n",
       "      <th>Enemy_pos3</th>\n",
       "      <th>Enemy_pos4</th>\n",
       "      <th>Enemy_pos5</th>\n",
       "      <th>Ally_pos1</th>\n",
       "      <th>Ally_pos2</th>\n",
       "      <th>Ally_pos3</th>\n",
       "      <th>Ally_pos4</th>\n",
       "    </tr>\n",
       "  </thead>\n",
       "  <tbody>\n",
       "    <tr>\n",
       "      <th>193</th>\n",
       "      <td>7.056366e+09</td>\n",
       "      <td>3/11/2023 22:34</td>\n",
       "      <td>lion</td>\n",
       "      <td>40:48:00</td>\n",
       "      <td>Lost</td>\n",
       "      <td>2.0</td>\n",
       "      <td>13.0</td>\n",
       "      <td>5.0</td>\n",
       "      <td>103000.0</td>\n",
       "      <td>Radiant</td>\n",
       "      <td>ursa</td>\n",
       "      <td>witch_doctor</td>\n",
       "      <td>legion_commander</td>\n",
       "      <td>nyx_assassin</td>\n",
       "      <td>hoodwink</td>\n",
       "      <td>juggernaut</td>\n",
       "      <td>storm_spirit</td>\n",
       "      <td>mars</td>\n",
       "      <td>ancient_apparition</td>\n",
       "    </tr>\n",
       "  </tbody>\n",
       "</table>\n",
       "</div>"
      ],
      "text/plain": [
       "          MatchID             Date  Hero Match Duration Result  Kills  Deaths  \\\n",
       "193  7.056366e+09  3/11/2023 22:34  lion       40:48:00   Lost    2.0    13.0   \n",
       "\n",
       "     Assists  Networth     Team Enemy_pos1    Enemy_pos2        Enemy_pos3  \\\n",
       "193      5.0  103000.0  Radiant       ursa  witch_doctor  legion_commander   \n",
       "\n",
       "       Enemy_pos4 Enemy_pos5   Ally_pos1     Ally_pos2 Ally_pos3  \\\n",
       "193  nyx_assassin   hoodwink  juggernaut  storm_spirit      mars   \n",
       "\n",
       "              Ally_pos4  \n",
       "193  ancient_apparition  "
      ]
     },
     "execution_count": 349,
     "metadata": {},
     "output_type": "execute_result"
    }
   ],
   "source": [
    "df[df['Networth'] >= 100000]"
   ]
  },
  {
   "cell_type": "code",
   "execution_count": 350,
   "metadata": {},
   "outputs": [],
   "source": [
    "df.drop(193, inplace=True)"
   ]
  },
  {
   "cell_type": "code",
   "execution_count": 351,
   "metadata": {},
   "outputs": [
    {
     "data": {
      "text/plain": [
       "<matplotlib.collections.PathCollection at 0x2063861d0d0>"
      ]
     },
     "execution_count": 351,
     "metadata": {},
     "output_type": "execute_result"
    },
    {
     "data": {
      "image/png": "[encoded data removed]",
      "text/plain": [
       "<Figure size 1000x1000 with 1 Axes>"
      ]
     },
     "metadata": {},
     "output_type": "display_data"
    }
   ],
   "source": [
    "X = df['Networth']\n",
    "y = df['Result'].replace({'Won' : 1, 'Lost' : 0}).to_frame()\n",
    "\n",
    "plt.figure(figsize = (10,10))\n",
    "\n",
    "plt.scatter(X, y, marker = 'o', color = 'red')"
   ]
  },
  {
   "cell_type": "code",
   "execution_count": 352,
   "metadata": {},
   "outputs": [],
   "source": [
    "X_train, X_test, y_train, y_test = train_test_split(df[['Networth']], y, train_size=0.9)"
   ]
  },
  {
   "cell_type": "code",
   "execution_count": 353,
   "metadata": {},
   "outputs": [
    {
     "name": "stderr",
     "output_type": "stream",
     "text": [
      "C:\\Users\\henry\\AppData\\Local\\Packages\\PythonSoftwareFoundation.Python.3.11_qbz5n2kfra8p0\\LocalCache\\local-packages\\Python311\\site-packages\\sklearn\\utils\\validation.py:1183: DataConversionWarning: A column-vector y was passed when a 1d array was expected. Please change the shape of y to (n_samples, ), for example using ravel().\n",
      "  y = column_or_1d(y, warn=True)\n"
     ]
    },
    {
     "data": {
      "text/html": [
       "<style>#sk-container-id-11 {color: black;}#sk-container-id-11 pre{padding: 0;}#sk-container-id-11 div.sk-toggleable {background-color: white;}#sk-container-id-11 label.sk-toggleable__label {cursor: pointer;display: block;width: 100%;margin-bottom: 0;padding: 0.3em;box-sizing: border-box;text-align: center;}#sk-container-id-11 label.sk-toggleable__label-arrow:before {content: \"▸\";float: left;margin-right: 0.25em;color: #696969;}#sk-container-id-11 label.sk-toggleable__label-arrow:hover:before {color: black;}#sk-container-id-11 div.sk-estimator:hover label.sk-toggleable__label-arrow:before {color: black;}#sk-container-id-11 div.sk-toggleable__content {max-height: 0;max-width: 0;overflow: hidden;text-align: left;background-color: #f0f8ff;}#sk-container-id-11 div.sk-toggleable__content pre {margin: 0.2em;color: black;border-radius: 0.25em;background-color: #f0f8ff;}#sk-container-id-11 input.sk-toggleable__control:checked~div.sk-toggleable__content {max-height: 200px;max-width: 100%;overflow: auto;}#sk-container-id-11 input.sk-toggleable__control:checked~label.sk-toggleable__label-arrow:before {content: \"▾\";}#sk-container-id-11 div.sk-estimator input.sk-toggleable__control:checked~label.sk-toggleable__label {background-color: #d4ebff;}#sk-container-id-11 div.sk-label input.sk-toggleable__control:checked~label.sk-toggleable__label {background-color: #d4ebff;}#sk-container-id-11 input.sk-hidden--visually {border: 0;clip: rect(1px 1px 1px 1px);clip: rect(1px, 1px, 1px, 1px);height: 1px;margin: -1px;overflow: hidden;padding: 0;position: absolute;width: 1px;}#sk-container-id-11 div.sk-estimator {font-family: monospace;background-color: #f0f8ff;border: 1px dotted black;border-radius: 0.25em;box-sizing: border-box;margin-bottom: 0.5em;}#sk-container-id-11 div.sk-estimator:hover {background-color: #d4ebff;}#sk-container-id-11 div.sk-parallel-item::after {content: \"\";width: 100%;border-bottom: 1px solid gray;flex-grow: 1;}#sk-container-id-11 div.sk-label:hover label.sk-toggleable__label {background-color: #d4ebff;}#sk-container-id-11 div.sk-serial::before {content: \"\";position: absolute;border-left: 1px solid gray;box-sizing: border-box;top: 0;bottom: 0;left: 50%;z-index: 0;}#sk-container-id-11 div.sk-serial {display: flex;flex-direction: column;align-items: center;background-color: white;padding-right: 0.2em;padding-left: 0.2em;position: relative;}#sk-container-id-11 div.sk-item {position: relative;z-index: 1;}#sk-container-id-11 div.sk-parallel {display: flex;align-items: stretch;justify-content: center;background-color: white;position: relative;}#sk-container-id-11 div.sk-item::before, #sk-container-id-11 div.sk-parallel-item::before {content: \"\";position: absolute;border-left: 1px solid gray;box-sizing: border-box;top: 0;bottom: 0;left: 50%;z-index: -1;}#sk-container-id-11 div.sk-parallel-item {display: flex;flex-direction: column;z-index: 1;position: relative;background-color: white;}#sk-container-id-11 div.sk-parallel-item:first-child::after {align-self: flex-end;width: 50%;}#sk-container-id-11 div.sk-parallel-item:last-child::after {align-self: flex-start;width: 50%;}#sk-container-id-11 div.sk-parallel-item:only-child::after {width: 0;}#sk-container-id-11 div.sk-dashed-wrapped {border: 1px dashed gray;margin: 0 0.4em 0.5em 0.4em;box-sizing: border-box;padding-bottom: 0.4em;background-color: white;}#sk-container-id-11 div.sk-label label {font-family: monospace;font-weight: bold;display: inline-block;line-height: 1.2em;}#sk-container-id-11 div.sk-label-container {text-align: center;}#sk-container-id-11 div.sk-container {/* jupyter's `normalize.less` sets `[hidden] { display: none; }` but bootstrap.min.css set `[hidden] { display: none !important; }` so we also need the `!important` here to be able to override the default hidden behavior on the sphinx rendered scikit-learn.org. See: https://github.com/scikit-learn/scikit-learn/issues/21755 */display: inline-block !important;position: relative;}#sk-container-id-11 div.sk-text-repr-fallback {display: none;}</style><div id=\"sk-container-id-11\" class=\"sk-top-container\"><div class=\"sk-text-repr-fallback\"><pre>LogisticRegression()</pre><b>In a Jupyter environment, please rerun this cell to show the HTML representation or trust the notebook. <br />On GitHub, the HTML representation is unable to render, please try loading this page with nbviewer.org.</b></div><div class=\"sk-container\" hidden><div class=\"sk-item\"><div class=\"sk-estimator sk-toggleable\"><input class=\"sk-toggleable__control sk-hidden--visually\" id=\"sk-estimator-id-11\" type=\"checkbox\" checked><label for=\"sk-estimator-id-11\" class=\"sk-toggleable__label sk-toggleable__label-arrow\">LogisticRegression</label><div class=\"sk-toggleable__content\"><pre>LogisticRegression()</pre></div></div></div></div></div>"
      ],
      "text/plain": [
       "LogisticRegression()"
      ]
     },
     "execution_count": 353,
     "metadata": {},
     "output_type": "execute_result"
    }
   ],
   "source": [
    "model.fit(X_train, y_train)"
   ]
  },
  {
   "cell_type": "code",
   "execution_count": 354,
   "metadata": {},
   "outputs": [],
   "source": [
    "ypred = model.predict(X_test)"
   ]
  },
  {
   "cell_type": "code",
   "execution_count": 355,
   "metadata": {},
   "outputs": [
    {
     "data": {
      "text/plain": [
       "0.41379310344827586"
      ]
     },
     "execution_count": 355,
     "metadata": {},
     "output_type": "execute_result"
    }
   ],
   "source": [
    "model.score(X_test,y_test)"
   ]
  },
  {
   "cell_type": "code",
   "execution_count": 356,
   "metadata": {},
   "outputs": [],
   "source": [
    "X_predict = np.arange(1,25000, 1000)"
   ]
  },
  {
   "cell_type": "code",
   "execution_count": 357,
   "metadata": {},
   "outputs": [
    {
     "name": "stderr",
     "output_type": "stream",
     "text": [
      "C:\\Users\\henry\\AppData\\Local\\Packages\\PythonSoftwareFoundation.Python.3.11_qbz5n2kfra8p0\\LocalCache\\local-packages\\Python311\\site-packages\\sklearn\\base.py:465: UserWarning: X does not have valid feature names, but LogisticRegression was fitted with feature names\n",
      "  warnings.warn(\n"
     ]
    }
   ],
   "source": [
    "probabilities = model.predict_proba(X_predict.reshape(-1, 1))"
   ]
  },
  {
   "cell_type": "code",
   "execution_count": 358,
   "metadata": {},
   "outputs": [
    {
     "data": {
      "image/png": "[encoded data removed]",
      "text/plain": [
       "<Figure size 1000x600 with 1 Axes>"
      ]
     },
     "metadata": {},
     "output_type": "display_data"
    }
   ],
   "source": [
    "plt.figure(figsize = (10,6))\n",
    "\n",
    "plt.scatter(X_predict, probabilities[:,1], marker = 'o', color = 'green')\n",
    "\n",
    "x_ticks = list(range(1000,25000,2000))\n",
    "\n",
    "plt.xticks(x_ticks)\n",
    "plt.xlabel('Networth')\n",
    "plt.ylabel('Win Probability')\n",
    "plt.title(\"Win Probability vs. Networth\")\n",
    "\n",
    "plt.grid(True)\n",
    "plt.show()"
   ]
  },
  {
   "cell_type": "markdown",
   "metadata": {},
   "source": [
    "## Win Probability vs. Assists"
   ]
  },
  {
   "cell_type": "code",
   "execution_count": 361,
   "metadata": {},
   "outputs": [
    {
     "data": {
      "text/plain": [
       "<matplotlib.collections.PathCollection at 0x20638683890>"
      ]
     },
     "execution_count": 361,
     "metadata": {},
     "output_type": "execute_result"
    },
    {
     "data": {
      "image/png": "[encoded data removed]",
      "text/plain": [
       "<Figure size 1000x400 with 1 Axes>"
      ]
     },
     "metadata": {},
     "output_type": "display_data"
    }
   ],
   "source": [
    "X = df['Assists']\n",
    "y = df['Result'].replace({'Won' : 1, 'Lost' : 0}).to_frame()\n",
    "\n",
    "plt.figure(figsize = (10,4))\n",
    "\n",
    "plt.scatter(X, y, marker = 'o', color = 'red')"
   ]
  },
  {
   "cell_type": "code",
   "execution_count": null,
   "metadata": {},
   "outputs": [],
   "source": []
  },
  {
   "cell_type": "code",
   "execution_count": null,
   "metadata": {},
   "outputs": [],
   "source": []
  }
 ],
 "metadata": {
  "kernelspec": {
   "display_name": "Python 3",
   "language": "python",
   "name": "python3"
  },
  "language_info": {
   "codemirror_mode": {
    "name": "ipython",
    "version": 3
   },
   "file_extension": ".py",
   "mimetype": "text/x-python",
   "name": "python",
   "nbconvert_exporter": "python",
   "pygments_lexer": "ipython3",
   "version": "3.11.4"
  },
  "orig_nbformat": 4
 },
 "nbformat": 4,
 "nbformat_minor": 2
}
