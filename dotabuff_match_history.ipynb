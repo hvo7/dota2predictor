{
 "cells": [
  {
   "cell_type": "code",
   "execution_count": 24,
   "metadata": {},
   "outputs": [],
   "source": [
    "from bs4 import BeautifulSoup\n",
    "import pandas as pd\n",
    "import requests\n",
    "from datetime import datetime"
   ]
  },
  {
   "cell_type": "code",
   "execution_count": 25,
   "metadata": {},
   "outputs": [],
   "source": [
    "first_index = 0\n"
   ]
  },
  {
   "cell_type": "code",
   "execution_count": 26,
   "metadata": {},
   "outputs": [],
   "source": [
    "file_path = 'C:\\\\Users\\henry\\Downloads\\dota2.txt'\n",
    "# Open the file in binary mode\n",
    "with open(file_path, \"rb\") as file:\n",
    "    # Read the binary content of the file\n",
    "    binary_content = file.read()\n",
    "decoded_content = binary_content.decode(\"utf-8\", errors=\"replace\")\n",
    "\n",
    "soup = BeautifulSoup(decoded_content, 'html.parser')\n"
   ]
  },
  {
   "cell_type": "code",
   "execution_count": 27,
   "metadata": {},
   "outputs": [],
   "source": [
    "# Create Dataframe if df does not already exist\n",
    "columns = ['MatchID', 'Date', 'Hero', 'Enemy_pos1', 'Enemy_pos2', 'Enemy_pos3', 'Enemy_pos4', 'Enemy_po5',\n",
    "           'Match Duration', 'Result', 'Kills', 'Deaths' 'Assists', 'Networth']\n",
    "\n",
    "if 'df' not in locals():\n",
    "    df = pd.DataFrame(columns)\n",
    "    first_index = 0\n",
    "else:\n",
    "    first_index = first_index + 50\n"
   ]
  },
  {
   "cell_type": "code",
   "execution_count": null,
   "metadata": {},
   "outputs": [],
   "source": [
    "for i in range(0,5):\n",
    "    df['Enemy_pos' + str(i)] = \"\"\n",
    "\n",
    "df['Networth'] = \"\"\n",
    "df['Date'] = "
   ]
  },
  {
   "cell_type": "code",
   "execution_count": 28,
   "metadata": {},
   "outputs": [
    {
     "name": "stdout",
     "output_type": "stream",
     "text": [
      "0\n"
     ]
    }
   ],
   "source": [
    "print(first_index)"
   ]
  },
  {
   "cell_type": "code",
   "execution_count": 29,
   "metadata": {},
   "outputs": [
    {
     "name": "stdout",
     "output_type": "stream",
     "text": [
      "            0\n",
      "0     MatchID\n",
      "1        Date\n",
      "2        Hero\n",
      "3  Enemy_pos1\n",
      "4  Enemy_pos2\n"
     ]
    }
   ],
   "source": [
    "print(df.head())"
   ]
  },
  {
   "cell_type": "code",
   "execution_count": 30,
   "metadata": {},
   "outputs": [],
   "source": [
    "heroes = soup.find_all(\"a\", href=lambda href: href and '/matches/72' in href)\n",
    "# Take info of myhero (Hero I played), matchid, and match result from html\n",
    "hero_tags = soup.find_all('a', href=lambda href: href and '/matches/' in href)\n",
    "\n",
    "matchids = []\n",
    "heroes = []\n",
    "results = []\n",
    "\n",
    "\n",
    "for tag in hero_tags:\n",
    "\n",
    "    # Extract hero name if the tag has \"class\" as an attribute\n",
    "    if not tag.has_attr(\"class\"):\n",
    "        heroes.append(tag.text)\n",
    "\n",
    "        # Extract the contents under the \"href\" attribute then split by \"/\" then take the MatchID\n",
    "        matchid = tag['href'].split('/')[2]\n",
    "        matchids.append(matchid)\n",
    "\n",
    "     # Tags that don't have \"class\" attribute include the result of the match\n",
    "    else:\n",
    "        results.append(tag.text)\n",
    "\n",
    "\n",
    "add_data = {'Hero' : heroes, 'MatchID' : matchids, 'Result' : results}\n",
    "df_new_data = pd.DataFrame(add_data)"
   ]
  },
  {
   "cell_type": "code",
   "execution_count": 31,
   "metadata": {},
   "outputs": [
    {
     "name": "stdout",
     "output_type": "stream",
     "text": [
      "['7298711135', '7280229073', '7268965457', '7266856262', '7255758726', '7255725098', '7255673780', '7250070281', '7247689570', '7247671586', '7247452281', '7246372234', '7239135242', '7239056825', '7238973938', '7238908864', '7238202411', '7238171114', '7238145508', '7238118885', '7238092792', '7237960065', '7237895477', '7232610806', '7231024516', '7228543993', '7227384223', '7227325085', '7227303780', '7227251683', '7227218819', '7227194113', '7227166001', '7227128373', '7227088056', '7227044961', '7227003847', '7226078987', '7226052094', '7226010839', '7225983519', '7221245229', '7218834860', '7217551342', '7216278139', '7216256731', '7216236208', '7216180843', '7216105413', '7216075145']\n"
     ]
    }
   ],
   "source": [
    "print(matchids)"
   ]
  },
  {
   "cell_type": "code",
   "execution_count": 32,
   "metadata": {},
   "outputs": [
    {
     "name": "stdout",
     "output_type": "stream",
     "text": [
      "            0          Hero      Result     MatchID\n",
      "0     MatchID        Oracle   Won Match  7298711135\n",
      "1        Date  Witch Doctor   Won Match  7280229073\n",
      "2        Hero          Lion   Won Match  7268965457\n",
      "3  Enemy_pos1        Rubick  Lost Match  7266856262\n",
      "4  Enemy_pos2        Rubick   Won Match  7255758726\n"
     ]
    }
   ],
   "source": [
    "if df.shape[1] == 1:\n",
    "    for i in range(0, 50):\n",
    "        df.loc[i, 'Hero'] = heroes[i]\n",
    "        df.loc[i, 'Result'] = results[i]\n",
    "        df.loc[i, 'MatchID'] = matchids[i]\n",
    "else:\n",
    "    df = pd.concat([df, df_new_data], ignore_index = True)\n",
    "print(df.head())"
   ]
  },
  {
   "cell_type": "code",
   "execution_count": 33,
   "metadata": {},
   "outputs": [],
   "source": [
    "for i in range(first_index, first_index + 50):\n",
    "   current_match_id = df.loc[i,\"MatchID\"]\n",
    "   starting_a_tag = soup.find_all('a', href=lambda href: href and '/matches/' + current_match_id in href)[1]  # Starting <a> tag for each matchid\n",
    "   matchid_row_index = df[df['MatchID'] == current_match_id].index  # Find the row index of the match in the dataframe\n",
    "   \n",
    "   # Find the Date of the match\n",
    "   date_tag_content = starting_a_tag.find_next('time')['title']\n",
    "   date_time_format = datetime.strptime(date_tag_content, \"%a, %d %b %Y %H:%M:%S %z\")\n",
    "   date = datetime.strftime(date_time_format, \"%Y-%m-%d\")\n",
    "   df.loc[matchid_row_index, \"Date\"] = date\n",
    "\n",
    "   # Find the duration of each match\n",
    "   duration = starting_a_tag.find_all_next('td')[1].text  # Find the duration by finding the second <td> tag\n",
    "   df.loc[matchid_row_index, 'Duration'] = duration  # Insert duration into row\n",
    "   \n",
    "   # Find the KDA (Kills/Deaths/Assists) of each match\n",
    "   kda = starting_a_tag.find_all_next('td')[2].text  # Find the Kills/Deaths/Assists of the match\n",
    "   df.loc[matchid_row_index, 'Kills'] = kda.split('/')[0]\n",
    "   df.loc[matchid_row_index, 'Deaths'] = kda.split('/')[1]\n",
    "   df.loc[matchid_row_index, 'Assists'] = kda.split('/')[2]"
   ]
  },
  {
   "cell_type": "code",
   "execution_count": 34,
   "metadata": {},
   "outputs": [],
   "source": [
    "csv_dota2 = 'dota.csv'\n",
    "df.to_csv(csv_dota2, index=False)\n"
   ]
  },
  {
   "cell_type": "code",
   "execution_count": 35,
   "metadata": {},
   "outputs": [
    {
     "name": "stdout",
     "output_type": "stream",
     "text": [
      "            0          Hero      Result     MatchID        Date Duration  \\\n",
      "0     MatchID        Oracle   Won Match  7298711135  2023-08-23    50:02   \n",
      "1        Date  Witch Doctor   Won Match  7280229073  2023-08-11    42:53   \n",
      "2        Hero          Lion   Won Match  7268965457  2023-08-03    37:55   \n",
      "3  Enemy_pos1        Rubick  Lost Match  7266856262  2023-08-02    47:16   \n",
      "4  Enemy_pos2        Rubick   Won Match  7255758726  2023-07-25    25:18   \n",
      "\n",
      "  Kills Deaths Assists  \n",
      "0    10     10      20  \n",
      "1    11     10      16  \n",
      "2     5      6      31  \n",
      "3     8     10      25  \n",
      "4     3      1      14  \n"
     ]
    }
   ],
   "source": [
    "print(df.head())\n"
   ]
  },
  {
   "cell_type": "code",
   "execution_count": 37,
   "metadata": {},
   "outputs": [
    {
     "name": "stdout",
     "output_type": "stream",
     "text": [
      "0\n",
      "Hero\n",
      "Result\n",
      "MatchID\n",
      "Date\n",
      "Duration\n",
      "Kills\n",
      "Deaths\n",
      "Assists\n"
     ]
    }
   ],
   "source": [
    "for i in df.columns:\n",
    "    print(i)"
   ]
  }
 ],
 "metadata": {
  "kernelspec": {
   "display_name": "Python 3",
   "language": "python",
   "name": "python3"
  },
  "language_info": {
   "codemirror_mode": {
    "name": "ipython",
    "version": 3
   },
   "file_extension": ".py",
   "mimetype": "text/x-python",
   "name": "python",
   "nbconvert_exporter": "python",
   "pygments_lexer": "ipython3",
   "version": "3.11.4"
  },
  "orig_nbformat": 4
 },
 "nbformat": 4,
 "nbformat_minor": 2
}
